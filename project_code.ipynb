{
 "cells": [
  {
   "cell_type": "markdown",
   "id": "a0e2b9d1",
   "metadata": {},
   "source": [
    "**Dataset**: Credit card applications data from the [UCI Machine Learning Repository](https://archive.ics.uci.edu/)\n",
    "\n",
    "**Task**: Fraud detection on an unlabeled dataset leveraing both unsupervised and supervised deep learning techniques such as Self Organizing Map (SOM) and Artificial Neural Network (ANN)."
   ]
  },
  {
   "cell_type": "code",
   "execution_count": 1,
   "id": "b647c5d7",
   "metadata": {},
   "outputs": [
    {
     "name": "stderr",
     "output_type": "stream",
     "text": [
      "C:\\Users\\abhin\\anaconda3\\envs\\nlp_course\\lib\\site-packages\\tensorflow\\python\\framework\\dtypes.py:526: FutureWarning: Passing (type, 1) or '1type' as a synonym of type is deprecated; in a future version of numpy, it will be understood as (type, (1,)) / '(1,)type'.\n",
      "  _np_qint8 = np.dtype([(\"qint8\", np.int8, 1)])\n",
      "C:\\Users\\abhin\\anaconda3\\envs\\nlp_course\\lib\\site-packages\\tensorflow\\python\\framework\\dtypes.py:527: FutureWarning: Passing (type, 1) or '1type' as a synonym of type is deprecated; in a future version of numpy, it will be understood as (type, (1,)) / '(1,)type'.\n",
      "  _np_quint8 = np.dtype([(\"quint8\", np.uint8, 1)])\n",
      "C:\\Users\\abhin\\anaconda3\\envs\\nlp_course\\lib\\site-packages\\tensorflow\\python\\framework\\dtypes.py:528: FutureWarning: Passing (type, 1) or '1type' as a synonym of type is deprecated; in a future version of numpy, it will be understood as (type, (1,)) / '(1,)type'.\n",
      "  _np_qint16 = np.dtype([(\"qint16\", np.int16, 1)])\n",
      "C:\\Users\\abhin\\anaconda3\\envs\\nlp_course\\lib\\site-packages\\tensorflow\\python\\framework\\dtypes.py:529: FutureWarning: Passing (type, 1) or '1type' as a synonym of type is deprecated; in a future version of numpy, it will be understood as (type, (1,)) / '(1,)type'.\n",
      "  _np_quint16 = np.dtype([(\"quint16\", np.uint16, 1)])\n",
      "C:\\Users\\abhin\\anaconda3\\envs\\nlp_course\\lib\\site-packages\\tensorflow\\python\\framework\\dtypes.py:530: FutureWarning: Passing (type, 1) or '1type' as a synonym of type is deprecated; in a future version of numpy, it will be understood as (type, (1,)) / '(1,)type'.\n",
      "  _np_qint32 = np.dtype([(\"qint32\", np.int32, 1)])\n",
      "C:\\Users\\abhin\\anaconda3\\envs\\nlp_course\\lib\\site-packages\\tensorflow\\python\\framework\\dtypes.py:535: FutureWarning: Passing (type, 1) or '1type' as a synonym of type is deprecated; in a future version of numpy, it will be understood as (type, (1,)) / '(1,)type'.\n",
      "  np_resource = np.dtype([(\"resource\", np.ubyte, 1)])\n"
     ]
    }
   ],
   "source": [
    "## imports\n",
    "import numpy as np\n",
    "import pandas as pd\n",
    "import seaborn as sns\n",
    "import matplotlib.pyplot as plt\n",
    "\n",
    "import tensorflow as tf"
   ]
  },
  {
   "cell_type": "code",
   "execution_count": 2,
   "id": "bbdfdabf",
   "metadata": {},
   "outputs": [
    {
     "data": {
      "text/html": [
       "<div>\n",
       "<style scoped>\n",
       "    .dataframe tbody tr th:only-of-type {\n",
       "        vertical-align: middle;\n",
       "    }\n",
       "\n",
       "    .dataframe tbody tr th {\n",
       "        vertical-align: top;\n",
       "    }\n",
       "\n",
       "    .dataframe thead th {\n",
       "        text-align: right;\n",
       "    }\n",
       "</style>\n",
       "<table border=\"1\" class=\"dataframe\">\n",
       "  <thead>\n",
       "    <tr style=\"text-align: right;\">\n",
       "      <th></th>\n",
       "      <th>CustomerID</th>\n",
       "      <th>A1</th>\n",
       "      <th>A2</th>\n",
       "      <th>A3</th>\n",
       "      <th>A4</th>\n",
       "      <th>A5</th>\n",
       "      <th>A6</th>\n",
       "      <th>A7</th>\n",
       "      <th>A8</th>\n",
       "      <th>A9</th>\n",
       "      <th>A10</th>\n",
       "      <th>A11</th>\n",
       "      <th>A12</th>\n",
       "      <th>A13</th>\n",
       "      <th>A14</th>\n",
       "      <th>Class</th>\n",
       "    </tr>\n",
       "  </thead>\n",
       "  <tbody>\n",
       "    <tr>\n",
       "      <th>0</th>\n",
       "      <td>15776156</td>\n",
       "      <td>1</td>\n",
       "      <td>22.08</td>\n",
       "      <td>11.460</td>\n",
       "      <td>2</td>\n",
       "      <td>4</td>\n",
       "      <td>4</td>\n",
       "      <td>1.585</td>\n",
       "      <td>0</td>\n",
       "      <td>0</td>\n",
       "      <td>0</td>\n",
       "      <td>1</td>\n",
       "      <td>2</td>\n",
       "      <td>100</td>\n",
       "      <td>1213</td>\n",
       "      <td>0</td>\n",
       "    </tr>\n",
       "    <tr>\n",
       "      <th>1</th>\n",
       "      <td>15739548</td>\n",
       "      <td>0</td>\n",
       "      <td>22.67</td>\n",
       "      <td>7.000</td>\n",
       "      <td>2</td>\n",
       "      <td>8</td>\n",
       "      <td>4</td>\n",
       "      <td>0.165</td>\n",
       "      <td>0</td>\n",
       "      <td>0</td>\n",
       "      <td>0</td>\n",
       "      <td>0</td>\n",
       "      <td>2</td>\n",
       "      <td>160</td>\n",
       "      <td>1</td>\n",
       "      <td>0</td>\n",
       "    </tr>\n",
       "    <tr>\n",
       "      <th>2</th>\n",
       "      <td>15662854</td>\n",
       "      <td>0</td>\n",
       "      <td>29.58</td>\n",
       "      <td>1.750</td>\n",
       "      <td>1</td>\n",
       "      <td>4</td>\n",
       "      <td>4</td>\n",
       "      <td>1.250</td>\n",
       "      <td>0</td>\n",
       "      <td>0</td>\n",
       "      <td>0</td>\n",
       "      <td>1</td>\n",
       "      <td>2</td>\n",
       "      <td>280</td>\n",
       "      <td>1</td>\n",
       "      <td>0</td>\n",
       "    </tr>\n",
       "    <tr>\n",
       "      <th>3</th>\n",
       "      <td>15687688</td>\n",
       "      <td>0</td>\n",
       "      <td>21.67</td>\n",
       "      <td>11.500</td>\n",
       "      <td>1</td>\n",
       "      <td>5</td>\n",
       "      <td>3</td>\n",
       "      <td>0.000</td>\n",
       "      <td>1</td>\n",
       "      <td>1</td>\n",
       "      <td>11</td>\n",
       "      <td>1</td>\n",
       "      <td>2</td>\n",
       "      <td>0</td>\n",
       "      <td>1</td>\n",
       "      <td>1</td>\n",
       "    </tr>\n",
       "    <tr>\n",
       "      <th>4</th>\n",
       "      <td>15715750</td>\n",
       "      <td>1</td>\n",
       "      <td>20.17</td>\n",
       "      <td>8.170</td>\n",
       "      <td>2</td>\n",
       "      <td>6</td>\n",
       "      <td>4</td>\n",
       "      <td>1.960</td>\n",
       "      <td>1</td>\n",
       "      <td>1</td>\n",
       "      <td>14</td>\n",
       "      <td>0</td>\n",
       "      <td>2</td>\n",
       "      <td>60</td>\n",
       "      <td>159</td>\n",
       "      <td>1</td>\n",
       "    </tr>\n",
       "    <tr>\n",
       "      <th>5</th>\n",
       "      <td>15571121</td>\n",
       "      <td>0</td>\n",
       "      <td>15.83</td>\n",
       "      <td>0.585</td>\n",
       "      <td>2</td>\n",
       "      <td>8</td>\n",
       "      <td>8</td>\n",
       "      <td>1.500</td>\n",
       "      <td>1</td>\n",
       "      <td>1</td>\n",
       "      <td>2</td>\n",
       "      <td>0</td>\n",
       "      <td>2</td>\n",
       "      <td>100</td>\n",
       "      <td>1</td>\n",
       "      <td>1</td>\n",
       "    </tr>\n",
       "    <tr>\n",
       "      <th>6</th>\n",
       "      <td>15726466</td>\n",
       "      <td>1</td>\n",
       "      <td>17.42</td>\n",
       "      <td>6.500</td>\n",
       "      <td>2</td>\n",
       "      <td>3</td>\n",
       "      <td>4</td>\n",
       "      <td>0.125</td>\n",
       "      <td>0</td>\n",
       "      <td>0</td>\n",
       "      <td>0</td>\n",
       "      <td>0</td>\n",
       "      <td>2</td>\n",
       "      <td>60</td>\n",
       "      <td>101</td>\n",
       "      <td>0</td>\n",
       "    </tr>\n",
       "    <tr>\n",
       "      <th>7</th>\n",
       "      <td>15660390</td>\n",
       "      <td>0</td>\n",
       "      <td>58.67</td>\n",
       "      <td>4.460</td>\n",
       "      <td>2</td>\n",
       "      <td>11</td>\n",
       "      <td>8</td>\n",
       "      <td>3.040</td>\n",
       "      <td>1</td>\n",
       "      <td>1</td>\n",
       "      <td>6</td>\n",
       "      <td>0</td>\n",
       "      <td>2</td>\n",
       "      <td>43</td>\n",
       "      <td>561</td>\n",
       "      <td>1</td>\n",
       "    </tr>\n",
       "    <tr>\n",
       "      <th>8</th>\n",
       "      <td>15663942</td>\n",
       "      <td>1</td>\n",
       "      <td>27.83</td>\n",
       "      <td>1.000</td>\n",
       "      <td>1</td>\n",
       "      <td>2</td>\n",
       "      <td>8</td>\n",
       "      <td>3.000</td>\n",
       "      <td>0</td>\n",
       "      <td>0</td>\n",
       "      <td>0</td>\n",
       "      <td>0</td>\n",
       "      <td>2</td>\n",
       "      <td>176</td>\n",
       "      <td>538</td>\n",
       "      <td>0</td>\n",
       "    </tr>\n",
       "    <tr>\n",
       "      <th>9</th>\n",
       "      <td>15638610</td>\n",
       "      <td>0</td>\n",
       "      <td>55.75</td>\n",
       "      <td>7.080</td>\n",
       "      <td>2</td>\n",
       "      <td>4</td>\n",
       "      <td>8</td>\n",
       "      <td>6.750</td>\n",
       "      <td>1</td>\n",
       "      <td>1</td>\n",
       "      <td>3</td>\n",
       "      <td>1</td>\n",
       "      <td>2</td>\n",
       "      <td>100</td>\n",
       "      <td>51</td>\n",
       "      <td>0</td>\n",
       "    </tr>\n",
       "  </tbody>\n",
       "</table>\n",
       "</div>"
      ],
      "text/plain": [
       "   CustomerID  A1     A2      A3  A4  A5  A6     A7  A8  A9  A10  A11  A12  \\\n",
       "0    15776156   1  22.08  11.460   2   4   4  1.585   0   0    0    1    2   \n",
       "1    15739548   0  22.67   7.000   2   8   4  0.165   0   0    0    0    2   \n",
       "2    15662854   0  29.58   1.750   1   4   4  1.250   0   0    0    1    2   \n",
       "3    15687688   0  21.67  11.500   1   5   3  0.000   1   1   11    1    2   \n",
       "4    15715750   1  20.17   8.170   2   6   4  1.960   1   1   14    0    2   \n",
       "5    15571121   0  15.83   0.585   2   8   8  1.500   1   1    2    0    2   \n",
       "6    15726466   1  17.42   6.500   2   3   4  0.125   0   0    0    0    2   \n",
       "7    15660390   0  58.67   4.460   2  11   8  3.040   1   1    6    0    2   \n",
       "8    15663942   1  27.83   1.000   1   2   8  3.000   0   0    0    0    2   \n",
       "9    15638610   0  55.75   7.080   2   4   8  6.750   1   1    3    1    2   \n",
       "\n",
       "   A13   A14  Class  \n",
       "0  100  1213      0  \n",
       "1  160     1      0  \n",
       "2  280     1      0  \n",
       "3    0     1      1  \n",
       "4   60   159      1  \n",
       "5  100     1      1  \n",
       "6   60   101      0  \n",
       "7   43   561      1  \n",
       "8  176   538      0  \n",
       "9  100    51      0  "
      ]
     },
     "execution_count": 2,
     "metadata": {},
     "output_type": "execute_result"
    }
   ],
   "source": [
    "## load dataset\n",
    "data = pd.read_csv('Credit_Card_Applications.csv')\n",
    "data.head(10)"
   ]
  },
  {
   "cell_type": "raw",
   "id": "6abc77b8",
   "metadata": {},
   "source": [
    "Task 1: Identify frauds from the unlabeled data using Self Organizing Map (SOM)"
   ]
  },
  {
   "cell_type": "code",
   "execution_count": 3,
   "id": "268545df",
   "metadata": {},
   "outputs": [],
   "source": [
    "## feature label split\n",
    "X = data.iloc[:,:-1].values ## keeping customer id to identify fraud instances later from the original dataset\n",
    "y = data.iloc[:,-1].values"
   ]
  },
  {
   "cell_type": "code",
   "execution_count": 4,
   "id": "1aadcbc3",
   "metadata": {},
   "outputs": [],
   "source": [
    "## feature scaling\n",
    "from sklearn.preprocessing import MinMaxScaler\n",
    "scaler = MinMaxScaler(feature_range=(0,1))\n",
    "X = scaler.fit_transform(X)"
   ]
  },
  {
   "cell_type": "code",
   "execution_count": 5,
   "id": "dcbeb45c",
   "metadata": {},
   "outputs": [
    {
     "data": {
      "text/plain": [
       "(690, 15)"
      ]
     },
     "execution_count": 5,
     "metadata": {},
     "output_type": "execute_result"
    }
   ],
   "source": [
    "X.shape"
   ]
  },
  {
   "cell_type": "code",
   "execution_count": 6,
   "id": "570b22fc",
   "metadata": {},
   "outputs": [
    {
     "data": {
      "text/plain": [
       "array([0, 0, 0, 1, 1], dtype=int64)"
      ]
     },
     "execution_count": 6,
     "metadata": {},
     "output_type": "execute_result"
    }
   ],
   "source": [
    "y[:5]"
   ]
  },
  {
   "cell_type": "code",
   "execution_count": 7,
   "id": "905899ff",
   "metadata": {},
   "outputs": [],
   "source": [
    "from minisom import MiniSom\n",
    "som = MiniSom(x=10, y=10, input_len= 15, sigma= 1.0, learning_rate = 0.01) \n",
    "## sigma-->radius of neighborhoods in the SOM grid\n",
    "som.random_weights_init(X) ## initialize random weight for each SOM node\n",
    "som.train_random(data = X, num_iteration = 100)"
   ]
  },
  {
   "cell_type": "code",
   "execution_count": 8,
   "id": "e47f08a6",
   "metadata": {},
   "outputs": [
    {
     "data": {
      "image/png": "[encoded data removed]",
      "text/plain": [
       "<Figure size 640x480 with 2 Axes>"
      ]
     },
     "metadata": {},
     "output_type": "display_data"
    },
    {
     "name": "stdout",
     "output_type": "stream",
     "text": [
      "red --> fraud that got approval, green --> fraud that did not get approval, rest --> not frauds\n"
     ]
    }
   ],
   "source": [
    "from pylab import bone, pcolor, colorbar, plot, show\n",
    "bone()\n",
    "pcolor(som.distance_map().T) ## som.distance_map() --> Mean Interneuron Distance (MID) for each winning node identified by SOM\n",
    "colorbar() ## to reference MID against colored grid\n",
    "## Big value of MID --> nodes are outliers in their neighborhoods (defined by radius) --> outliers --> fraud\n",
    "markers = ['o', 's']\n",
    "colors = ['r', 'g']\n",
    "for i, x in enumerate(X): ## i-->index, x-->feature_vector\n",
    "    w = som.winner(x) ## w --> winning node for feature vector at index i\n",
    "    plot(w[0] + 0.5, ## x coordinate of center of winning SOM node\n",
    "         w[1] + 0.5, ## y coordinate of center of winning SOM node\n",
    "         markers[y[i]],\n",
    "         markeredgecolor = colors[y[i]], ## r --> approved (high priority fraud), g --> not approved (preventable fraud)\n",
    "         markerfacecolor = 'None',\n",
    "         markersize = 10,\n",
    "         markeredgewidth = 2)\n",
    "show()\n",
    "\n",
    "print('red --> fraud that got approval, green --> fraud that did not get approval, rest --> not frauds')"
   ]
  },
  {
   "cell_type": "markdown",
   "id": "50fca05a",
   "metadata": {},
   "source": [
    "**Important**: The neuron at (1,4) has high Mean Interneuron Distance (MID), meaning it is an outlier (i.e. potential fraud). Also, the cluster represented by that neuron has both approved and un-approved credit cards, meaning some potential frauds have been issued credit cards. The next task is to find all samples represented by cluster neurons with high Mean Interneuron Distance (MID)."
   ]
  },
  {
   "cell_type": "code",
   "execution_count": 9,
   "id": "3f2299ac",
   "metadata": {},
   "outputs": [
    {
     "data": {
      "text/plain": [
       "<matplotlib.axes._subplots.AxesSubplot at 0x236ab2bc288>"
      ]
     },
     "execution_count": 9,
     "metadata": {},
     "output_type": "execute_result"
    },
    {
     "data": {
      "image/png": "[encoded data removed]",
      "text/plain": [
       "<Figure size 640x480 with 1 Axes>"
      ]
     },
     "metadata": {},
     "output_type": "display_data"
    }
   ],
   "source": [
    "## plotting a histogram of Mean Interneuron Distance for the SOM cluster neurons\n",
    "\n",
    "sns.histplot(data=som.distance_map().reshape(100,1))"
   ]
  },
  {
   "cell_type": "raw",
   "id": "4d930240",
   "metadata": {},
   "source": [
    "For the purpose of this project we'll keep 0.5 as the MID threshold for classifying frauds. It's a rather simplistic but intuitive approach. Alternatively, concepts such as z-score or percentile could be used."
   ]
  },
  {
   "cell_type": "code",
   "execution_count": 10,
   "id": "f7529071",
   "metadata": {},
   "outputs": [],
   "source": [
    "threshold = 0.5"
   ]
  },
  {
   "cell_type": "code",
   "execution_count": 11,
   "id": "c86a83d0",
   "metadata": {},
   "outputs": [
    {
     "data": {
      "text/plain": [
       "[(0, 1), (0, 7), (0, 3), (1, 3), (1, 8), (1, 2), (1, 3), (1, 6)]"
      ]
     },
     "execution_count": 11,
     "metadata": {},
     "output_type": "execute_result"
    }
   ],
   "source": [
    "## get all cluster neurons with MID >= threshold\n",
    "\n",
    "fraud_clusters = list()\n",
    "\n",
    "for x,y in zip(np.where(som.distance_map()>=threshold)[0], np.where(som.distance_map()>=0.9)[1]):\n",
    "    fraud_clusters.append((x,y))\n",
    "    \n",
    "fraud_clusters"
   ]
  },
  {
   "cell_type": "code",
   "execution_count": 12,
   "id": "7f39ec1c",
   "metadata": {},
   "outputs": [],
   "source": [
    "## mappings --> each cluster mapped to corresponding samples\n",
    "mappings = som.win_map(X)"
   ]
  },
  {
   "cell_type": "code",
   "execution_count": 13,
   "id": "1fa990aa",
   "metadata": {},
   "outputs": [
    {
     "data": {
      "text/plain": [
       "array([15603683, 15659100, 15713983, 15763194, 15809909, 15608595,\n",
       "       15761158, 15711742, 15666166, 15605872, 15665087, 15627699,\n",
       "       15622729, 15707681, 15598586, 15701738, 15690169, 15631685,\n",
       "       15571081, 15630592, 15589541, 15621244, 15632789, 15567834,\n",
       "       15591035, 15608804, 15611189, 15698522, 15607986, 15631685,\n",
       "       15571081, 15630592, 15589541, 15767264, 15719940, 15815040,\n",
       "       15761733, 15770995, 15736399, 15766734, 15667934])"
      ]
     },
     "execution_count": 13,
     "metadata": {},
     "output_type": "execute_result"
    }
   ],
   "source": [
    "frauds = list()\n",
    "\n",
    "for cluster in fraud_clusters:\n",
    "    cluster_frauds = [int(x) for x in scaler.inverse_transform(mappings[cluster])[:,0]]\n",
    "    frauds.extend(cluster_frauds)\n",
    "    \n",
    "frauds = np.array(frauds)\n",
    "frauds"
   ]
  },
  {
   "cell_type": "code",
   "execution_count": 14,
   "id": "c2d9282b",
   "metadata": {},
   "outputs": [
    {
     "data": {
      "text/plain": [
       "41"
      ]
     },
     "execution_count": 14,
     "metadata": {},
     "output_type": "execute_result"
    }
   ],
   "source": [
    "len(frauds)"
   ]
  },
  {
   "cell_type": "markdown",
   "id": "eeb20d0e",
   "metadata": {},
   "source": [
    "**Important**: After starting with an unsupervised learning technique (SOMs), we have found 14 potential frauds in our dataset without depending on a label. However, in order to make our system more robust, we can use the frauds we've discovered to create a label for our dataset, and further train an Artificial Neural Network (ANN) with the new information to attain higher accuracy in fraud detection."
   ]
  },
  {
   "cell_type": "raw",
   "id": "d482b441",
   "metadata": {},
   "source": [
    "Task 2: Labeling the dataset and leveraging ANN to enhance fraud detection"
   ]
  },
  {
   "cell_type": "code",
   "execution_count": 15,
   "id": "6f49ff42",
   "metadata": {},
   "outputs": [
    {
     "data": {
      "text/plain": [
       "0    653\n",
       "1     37\n",
       "Name: Fraud, dtype: int64"
      ]
     },
     "execution_count": 15,
     "metadata": {},
     "output_type": "execute_result"
    }
   ],
   "source": [
    "## label the data\n",
    "data['Fraud'] = data['CustomerID'].apply(lambda x: 1 if x in frauds else 0)\n",
    "data['Fraud'].value_counts()"
   ]
  },
  {
   "cell_type": "code",
   "execution_count": 16,
   "id": "b3810ad8",
   "metadata": {},
   "outputs": [
    {
     "data": {
      "text/html": [
       "<div>\n",
       "<style scoped>\n",
       "    .dataframe tbody tr th:only-of-type {\n",
       "        vertical-align: middle;\n",
       "    }\n",
       "\n",
       "    .dataframe tbody tr th {\n",
       "        vertical-align: top;\n",
       "    }\n",
       "\n",
       "    .dataframe thead th {\n",
       "        text-align: right;\n",
       "    }\n",
       "</style>\n",
       "<table border=\"1\" class=\"dataframe\">\n",
       "  <thead>\n",
       "    <tr style=\"text-align: right;\">\n",
       "      <th></th>\n",
       "      <th>CustomerID</th>\n",
       "      <th>A1</th>\n",
       "      <th>A2</th>\n",
       "      <th>A3</th>\n",
       "      <th>A4</th>\n",
       "      <th>A5</th>\n",
       "      <th>A6</th>\n",
       "      <th>A7</th>\n",
       "      <th>A8</th>\n",
       "      <th>A9</th>\n",
       "      <th>A10</th>\n",
       "      <th>A11</th>\n",
       "      <th>A12</th>\n",
       "      <th>A13</th>\n",
       "      <th>A14</th>\n",
       "      <th>Class</th>\n",
       "      <th>Fraud</th>\n",
       "    </tr>\n",
       "  </thead>\n",
       "  <tbody>\n",
       "    <tr>\n",
       "      <th>0</th>\n",
       "      <td>15776156</td>\n",
       "      <td>1</td>\n",
       "      <td>22.08</td>\n",
       "      <td>11.460</td>\n",
       "      <td>2</td>\n",
       "      <td>4</td>\n",
       "      <td>4</td>\n",
       "      <td>1.585</td>\n",
       "      <td>0</td>\n",
       "      <td>0</td>\n",
       "      <td>0</td>\n",
       "      <td>1</td>\n",
       "      <td>2</td>\n",
       "      <td>100</td>\n",
       "      <td>1213</td>\n",
       "      <td>0</td>\n",
       "      <td>0</td>\n",
       "    </tr>\n",
       "    <tr>\n",
       "      <th>1</th>\n",
       "      <td>15739548</td>\n",
       "      <td>0</td>\n",
       "      <td>22.67</td>\n",
       "      <td>7.000</td>\n",
       "      <td>2</td>\n",
       "      <td>8</td>\n",
       "      <td>4</td>\n",
       "      <td>0.165</td>\n",
       "      <td>0</td>\n",
       "      <td>0</td>\n",
       "      <td>0</td>\n",
       "      <td>0</td>\n",
       "      <td>2</td>\n",
       "      <td>160</td>\n",
       "      <td>1</td>\n",
       "      <td>0</td>\n",
       "      <td>0</td>\n",
       "    </tr>\n",
       "    <tr>\n",
       "      <th>2</th>\n",
       "      <td>15662854</td>\n",
       "      <td>0</td>\n",
       "      <td>29.58</td>\n",
       "      <td>1.750</td>\n",
       "      <td>1</td>\n",
       "      <td>4</td>\n",
       "      <td>4</td>\n",
       "      <td>1.250</td>\n",
       "      <td>0</td>\n",
       "      <td>0</td>\n",
       "      <td>0</td>\n",
       "      <td>1</td>\n",
       "      <td>2</td>\n",
       "      <td>280</td>\n",
       "      <td>1</td>\n",
       "      <td>0</td>\n",
       "      <td>0</td>\n",
       "    </tr>\n",
       "    <tr>\n",
       "      <th>3</th>\n",
       "      <td>15687688</td>\n",
       "      <td>0</td>\n",
       "      <td>21.67</td>\n",
       "      <td>11.500</td>\n",
       "      <td>1</td>\n",
       "      <td>5</td>\n",
       "      <td>3</td>\n",
       "      <td>0.000</td>\n",
       "      <td>1</td>\n",
       "      <td>1</td>\n",
       "      <td>11</td>\n",
       "      <td>1</td>\n",
       "      <td>2</td>\n",
       "      <td>0</td>\n",
       "      <td>1</td>\n",
       "      <td>1</td>\n",
       "      <td>0</td>\n",
       "    </tr>\n",
       "    <tr>\n",
       "      <th>4</th>\n",
       "      <td>15715750</td>\n",
       "      <td>1</td>\n",
       "      <td>20.17</td>\n",
       "      <td>8.170</td>\n",
       "      <td>2</td>\n",
       "      <td>6</td>\n",
       "      <td>4</td>\n",
       "      <td>1.960</td>\n",
       "      <td>1</td>\n",
       "      <td>1</td>\n",
       "      <td>14</td>\n",
       "      <td>0</td>\n",
       "      <td>2</td>\n",
       "      <td>60</td>\n",
       "      <td>159</td>\n",
       "      <td>1</td>\n",
       "      <td>0</td>\n",
       "    </tr>\n",
       "    <tr>\n",
       "      <th>5</th>\n",
       "      <td>15571121</td>\n",
       "      <td>0</td>\n",
       "      <td>15.83</td>\n",
       "      <td>0.585</td>\n",
       "      <td>2</td>\n",
       "      <td>8</td>\n",
       "      <td>8</td>\n",
       "      <td>1.500</td>\n",
       "      <td>1</td>\n",
       "      <td>1</td>\n",
       "      <td>2</td>\n",
       "      <td>0</td>\n",
       "      <td>2</td>\n",
       "      <td>100</td>\n",
       "      <td>1</td>\n",
       "      <td>1</td>\n",
       "      <td>0</td>\n",
       "    </tr>\n",
       "    <tr>\n",
       "      <th>6</th>\n",
       "      <td>15726466</td>\n",
       "      <td>1</td>\n",
       "      <td>17.42</td>\n",
       "      <td>6.500</td>\n",
       "      <td>2</td>\n",
       "      <td>3</td>\n",
       "      <td>4</td>\n",
       "      <td>0.125</td>\n",
       "      <td>0</td>\n",
       "      <td>0</td>\n",
       "      <td>0</td>\n",
       "      <td>0</td>\n",
       "      <td>2</td>\n",
       "      <td>60</td>\n",
       "      <td>101</td>\n",
       "      <td>0</td>\n",
       "      <td>0</td>\n",
       "    </tr>\n",
       "    <tr>\n",
       "      <th>7</th>\n",
       "      <td>15660390</td>\n",
       "      <td>0</td>\n",
       "      <td>58.67</td>\n",
       "      <td>4.460</td>\n",
       "      <td>2</td>\n",
       "      <td>11</td>\n",
       "      <td>8</td>\n",
       "      <td>3.040</td>\n",
       "      <td>1</td>\n",
       "      <td>1</td>\n",
       "      <td>6</td>\n",
       "      <td>0</td>\n",
       "      <td>2</td>\n",
       "      <td>43</td>\n",
       "      <td>561</td>\n",
       "      <td>1</td>\n",
       "      <td>0</td>\n",
       "    </tr>\n",
       "    <tr>\n",
       "      <th>8</th>\n",
       "      <td>15663942</td>\n",
       "      <td>1</td>\n",
       "      <td>27.83</td>\n",
       "      <td>1.000</td>\n",
       "      <td>1</td>\n",
       "      <td>2</td>\n",
       "      <td>8</td>\n",
       "      <td>3.000</td>\n",
       "      <td>0</td>\n",
       "      <td>0</td>\n",
       "      <td>0</td>\n",
       "      <td>0</td>\n",
       "      <td>2</td>\n",
       "      <td>176</td>\n",
       "      <td>538</td>\n",
       "      <td>0</td>\n",
       "      <td>0</td>\n",
       "    </tr>\n",
       "    <tr>\n",
       "      <th>9</th>\n",
       "      <td>15638610</td>\n",
       "      <td>0</td>\n",
       "      <td>55.75</td>\n",
       "      <td>7.080</td>\n",
       "      <td>2</td>\n",
       "      <td>4</td>\n",
       "      <td>8</td>\n",
       "      <td>6.750</td>\n",
       "      <td>1</td>\n",
       "      <td>1</td>\n",
       "      <td>3</td>\n",
       "      <td>1</td>\n",
       "      <td>2</td>\n",
       "      <td>100</td>\n",
       "      <td>51</td>\n",
       "      <td>0</td>\n",
       "      <td>0</td>\n",
       "    </tr>\n",
       "  </tbody>\n",
       "</table>\n",
       "</div>"
      ],
      "text/plain": [
       "   CustomerID  A1     A2      A3  A4  A5  A6     A7  A8  A9  A10  A11  A12  \\\n",
       "0    15776156   1  22.08  11.460   2   4   4  1.585   0   0    0    1    2   \n",
       "1    15739548   0  22.67   7.000   2   8   4  0.165   0   0    0    0    2   \n",
       "2    15662854   0  29.58   1.750   1   4   4  1.250   0   0    0    1    2   \n",
       "3    15687688   0  21.67  11.500   1   5   3  0.000   1   1   11    1    2   \n",
       "4    15715750   1  20.17   8.170   2   6   4  1.960   1   1   14    0    2   \n",
       "5    15571121   0  15.83   0.585   2   8   8  1.500   1   1    2    0    2   \n",
       "6    15726466   1  17.42   6.500   2   3   4  0.125   0   0    0    0    2   \n",
       "7    15660390   0  58.67   4.460   2  11   8  3.040   1   1    6    0    2   \n",
       "8    15663942   1  27.83   1.000   1   2   8  3.000   0   0    0    0    2   \n",
       "9    15638610   0  55.75   7.080   2   4   8  6.750   1   1    3    1    2   \n",
       "\n",
       "   A13   A14  Class  Fraud  \n",
       "0  100  1213      0      0  \n",
       "1  160     1      0      0  \n",
       "2  280     1      0      0  \n",
       "3    0     1      1      0  \n",
       "4   60   159      1      0  \n",
       "5  100     1      1      0  \n",
       "6   60   101      0      0  \n",
       "7   43   561      1      0  \n",
       "8  176   538      0      0  \n",
       "9  100    51      0      0  "
      ]
     },
     "execution_count": 16,
     "metadata": {},
     "output_type": "execute_result"
    }
   ],
   "source": [
    "data.head(10)"
   ]
  },
  {
   "cell_type": "code",
   "execution_count": 17,
   "id": "326f84a7",
   "metadata": {},
   "outputs": [],
   "source": [
    "## feature label split\n",
    "\n",
    "X = data.iloc[:, 1:-1].values\n",
    "y = data.iloc[:, -1].values"
   ]
  },
  {
   "cell_type": "code",
   "execution_count": 18,
   "id": "31f4a4b7",
   "metadata": {},
   "outputs": [],
   "source": [
    "## train test split\n",
    "\n",
    "from sklearn.model_selection import StratifiedShuffleSplit\n",
    "\n",
    "sss = StratifiedShuffleSplit(test_size=0.3, random_state=27)\n",
    "\n",
    "for train_idx, test_idx in sss.split(X,y):\n",
    "    X_train, X_test = X[train_idx], X[test_idx]\n",
    "    y_train, y_test = y[train_idx], y[test_idx]"
   ]
  },
  {
   "cell_type": "raw",
   "id": "a6dcbc38",
   "metadata": {},
   "source": [
    "## oversampling the training set for the minority class (frauds)\n",
    "\n",
    "from imblearn.over_sampling import SMOTE\n",
    "\n",
    "smote = SMOTE(random_state=27)\n",
    "\n",
    "X_train, y_train = smote.fit_resample(X_train, y_train)"
   ]
  },
  {
   "cell_type": "code",
   "execution_count": 19,
   "id": "4cdacad0",
   "metadata": {},
   "outputs": [
    {
     "data": {
      "text/plain": [
       "0.053830227743271224"
      ]
     },
     "execution_count": 19,
     "metadata": {},
     "output_type": "execute_result"
    }
   ],
   "source": [
    "## mean(y_train) = 0.5 --> perfectly balanced classes\n",
    "np.mean(y_train)"
   ]
  },
  {
   "cell_type": "code",
   "execution_count": 20,
   "id": "58fd6611",
   "metadata": {},
   "outputs": [],
   "source": [
    "## normalization\n",
    "\n",
    "from sklearn.preprocessing import MinMaxScaler\n",
    "\n",
    "feature_scaler = MinMaxScaler(feature_range=(0,1))\n",
    "\n",
    "feature_scaler.fit(X_train)\n",
    "X_train = feature_scaler.transform(X_train)\n",
    "X_test = feature_scaler.transform(X_test)"
   ]
  },
  {
   "cell_type": "code",
   "execution_count": 21,
   "id": "c3a871e8",
   "metadata": {},
   "outputs": [
    {
     "name": "stdout",
     "output_type": "stream",
     "text": [
      "WARNING:tensorflow:From C:\\Users\\abhin\\anaconda3\\envs\\nlp_course\\lib\\site-packages\\tensorflow\\python\\ops\\resource_variable_ops.py:435: colocate_with (from tensorflow.python.framework.ops) is deprecated and will be removed in a future version.\n",
      "Instructions for updating:\n",
      "Colocations handled automatically by placer.\n",
      "WARNING:tensorflow:From C:\\Users\\abhin\\anaconda3\\envs\\nlp_course\\lib\\site-packages\\tensorflow\\python\\keras\\layers\\core.py:143: calling dropout (from tensorflow.python.ops.nn_ops) with keep_prob is deprecated and will be removed in a future version.\n",
      "Instructions for updating:\n",
      "Please use `rate` instead of `keep_prob`. Rate should be set to `rate = 1 - keep_prob`.\n"
     ]
    }
   ],
   "source": [
    "## model building\n",
    "\n",
    "model = tf.keras.models.Sequential() ## instantiation\n",
    "\n",
    "## layers\n",
    "model.add(tf.keras.layers.Dense(units=10*X.shape[1], activation=tf.nn.leaky_relu, input_shape=(15,)))\n",
    "model.add(tf.keras.layers.Dropout(rate=0.30))\n",
    "\n",
    "model.add(tf.keras.layers.Dense(units=20*X.shape[1], activation=tf.nn.leaky_relu))\n",
    "model.add(tf.keras.layers.Dropout(rate=0.30))\n",
    "\n",
    "model.add(tf.keras.layers.Dense(units=30*X.shape[1], activation=tf.nn.leaky_relu))\n",
    "model.add(tf.keras.layers.Dropout(rate=0.50))\n",
    "\n",
    "model.add(tf.keras.layers.Dense(units=20*X.shape[1], activation=tf.nn.leaky_relu))\n",
    "model.add(tf.keras.layers.Dropout(rate=0.30))\n",
    "\n",
    "model.add(tf.keras.layers.Dense(units=10*X.shape[1], activation=tf.nn.leaky_relu))\n",
    "model.add(tf.keras.layers.Dropout(rate=0.30))\n",
    "\n",
    "## output\n",
    "model.add(tf.keras.layers.Dense(units=1, activation='sigmoid'))\n",
    "\n",
    "## compile\n",
    "model.compile(optimizer='adam', loss='binary_crossentropy', metrics=['accuracy'])"
   ]
  },
  {
   "cell_type": "code",
   "execution_count": 22,
   "id": "84b64e18",
   "metadata": {},
   "outputs": [
    {
     "name": "stdout",
     "output_type": "stream",
     "text": [
      "_________________________________________________________________\n",
      "Layer (type)                 Output Shape              Param #   \n",
      "=================================================================\n",
      "dense (Dense)                (None, 150)               2400      \n",
      "_________________________________________________________________\n",
      "dropout (Dropout)            (None, 150)               0         \n",
      "_________________________________________________________________\n",
      "dense_1 (Dense)              (None, 300)               45300     \n",
      "_________________________________________________________________\n",
      "dropout_1 (Dropout)          (None, 300)               0         \n",
      "_________________________________________________________________\n",
      "dense_2 (Dense)              (None, 450)               135450    \n",
      "_________________________________________________________________\n",
      "dropout_2 (Dropout)          (None, 450)               0         \n",
      "_________________________________________________________________\n",
      "dense_3 (Dense)              (None, 300)               135300    \n",
      "_________________________________________________________________\n",
      "dropout_3 (Dropout)          (None, 300)               0         \n",
      "_________________________________________________________________\n",
      "dense_4 (Dense)              (None, 150)               45150     \n",
      "_________________________________________________________________\n",
      "dropout_4 (Dropout)          (None, 150)               0         \n",
      "_________________________________________________________________\n",
      "dense_5 (Dense)              (None, 1)                 151       \n",
      "=================================================================\n",
      "Total params: 363,751\n",
      "Trainable params: 363,751\n",
      "Non-trainable params: 0\n",
      "_________________________________________________________________\n"
     ]
    }
   ],
   "source": [
    "model.summary()"
   ]
  },
  {
   "cell_type": "code",
   "execution_count": 23,
   "id": "eed3bd43",
   "metadata": {},
   "outputs": [
    {
     "name": "stdout",
     "output_type": "stream",
     "text": [
      "Train on 483 samples, validate on 207 samples\n",
      "WARNING:tensorflow:From C:\\Users\\abhin\\anaconda3\\envs\\nlp_course\\lib\\site-packages\\tensorflow\\python\\ops\\math_ops.py:3066: to_int32 (from tensorflow.python.ops.math_ops) is deprecated and will be removed in a future version.\n",
      "Instructions for updating:\n",
      "Use tf.cast instead.\n",
      "Epoch 1/100\n",
      "483/483 [==============================] - 1s 2ms/sample - loss: 0.3971 - acc: 0.8861 - val_loss: 0.2065 - val_acc: 0.9469\n",
      "Epoch 2/100\n",
      "483/483 [==============================] - 0s 309us/sample - loss: 0.1996 - acc: 0.9462 - val_loss: 0.1971 - val_acc: 0.9469\n",
      "Epoch 3/100\n",
      "483/483 [==============================] - 0s 320us/sample - loss: 0.1937 - acc: 0.9462 - val_loss: 0.1931 - val_acc: 0.9469\n",
      "Epoch 4/100\n",
      "483/483 [==============================] - 0s 316us/sample - loss: 0.1825 - acc: 0.9462 - val_loss: 0.1874 - val_acc: 0.9469\n",
      "Epoch 5/100\n",
      "483/483 [==============================] - 0s 313us/sample - loss: 0.1678 - acc: 0.9462 - val_loss: 0.2016 - val_acc: 0.9517\n",
      "Epoch 6/100\n",
      "483/483 [==============================] - 0s 303us/sample - loss: 0.1642 - acc: 0.9524 - val_loss: 0.1986 - val_acc: 0.9517\n",
      "Epoch 7/100\n",
      "483/483 [==============================] - 0s 318us/sample - loss: 0.1975 - acc: 0.9482 - val_loss: 0.1763 - val_acc: 0.9565\n",
      "Epoch 8/100\n",
      "483/483 [==============================] - 0s 300us/sample - loss: 0.1435 - acc: 0.9565 - val_loss: 0.1792 - val_acc: 0.9565\n",
      "Epoch 9/100\n",
      "483/483 [==============================] - 0s 305us/sample - loss: 0.1555 - acc: 0.9565 - val_loss: 0.1699 - val_acc: 0.9565\n",
      "Epoch 10/100\n",
      "483/483 [==============================] - 0s 310us/sample - loss: 0.1586 - acc: 0.9545 - val_loss: 0.1720 - val_acc: 0.9565\n",
      "Epoch 11/100\n",
      "483/483 [==============================] - 0s 304us/sample - loss: 0.1440 - acc: 0.9586 - val_loss: 0.1750 - val_acc: 0.9614\n",
      "Epoch 12/100\n",
      "483/483 [==============================] - 0s 331us/sample - loss: 0.1361 - acc: 0.9586 - val_loss: 0.1725 - val_acc: 0.9614\n",
      "Epoch 13/100\n",
      "483/483 [==============================] - 0s 304us/sample - loss: 0.1506 - acc: 0.9565 - val_loss: 0.1661 - val_acc: 0.9565\n",
      "Epoch 14/100\n",
      "483/483 [==============================] - 0s 310us/sample - loss: 0.1344 - acc: 0.9648 - val_loss: 0.1805 - val_acc: 0.9614\n",
      "Epoch 15/100\n",
      "483/483 [==============================] - 0s 311us/sample - loss: 0.1250 - acc: 0.9627 - val_loss: 0.1705 - val_acc: 0.9614\n",
      "Epoch 16/100\n",
      "483/483 [==============================] - 0s 310us/sample - loss: 0.1254 - acc: 0.9689 - val_loss: 0.1978 - val_acc: 0.9565\n",
      "Epoch 17/100\n",
      "483/483 [==============================] - 0s 305us/sample - loss: 0.1183 - acc: 0.9607 - val_loss: 0.1718 - val_acc: 0.9565\n",
      "Epoch 18/100\n",
      "483/483 [==============================] - 0s 309us/sample - loss: 0.1064 - acc: 0.9648 - val_loss: 0.1709 - val_acc: 0.9614\n",
      "Epoch 19/100\n",
      "483/483 [==============================] - 0s 300us/sample - loss: 0.1006 - acc: 0.9669 - val_loss: 0.1826 - val_acc: 0.9614\n",
      "Epoch 20/100\n",
      "483/483 [==============================] - 0s 303us/sample - loss: 0.1028 - acc: 0.9669 - val_loss: 0.1791 - val_acc: 0.9614\n",
      "Epoch 21/100\n",
      "483/483 [==============================] - 0s 310us/sample - loss: 0.1051 - acc: 0.9648 - val_loss: 0.1867 - val_acc: 0.9614\n",
      "Epoch 22/100\n",
      "483/483 [==============================] - 0s 325us/sample - loss: 0.1044 - acc: 0.9669 - val_loss: 0.1756 - val_acc: 0.9565\n",
      "Epoch 23/100\n",
      "483/483 [==============================] - 0s 301us/sample - loss: 0.1058 - acc: 0.9689 - val_loss: 0.1818 - val_acc: 0.9662\n",
      "Epoch 24/100\n",
      "483/483 [==============================] - 0s 311us/sample - loss: 0.1073 - acc: 0.9607 - val_loss: 0.1766 - val_acc: 0.9614\n",
      "Epoch 25/100\n",
      "483/483 [==============================] - 0s 308us/sample - loss: 0.0827 - acc: 0.9689 - val_loss: 0.1888 - val_acc: 0.9565\n",
      "Epoch 26/100\n",
      "483/483 [==============================] - 0s 325us/sample - loss: 0.0841 - acc: 0.9689 - val_loss: 0.1835 - val_acc: 0.9614\n",
      "Epoch 27/100\n",
      "483/483 [==============================] - 0s 322us/sample - loss: 0.1152 - acc: 0.9607 - val_loss: 0.1837 - val_acc: 0.9614\n",
      "Epoch 28/100\n",
      "483/483 [==============================] - 0s 311us/sample - loss: 0.0966 - acc: 0.9648 - val_loss: 0.1961 - val_acc: 0.9565\n",
      "Epoch 29/100\n",
      "483/483 [==============================] - 0s 304us/sample - loss: 0.0790 - acc: 0.9710 - val_loss: 0.2050 - val_acc: 0.9565\n",
      "Epoch 30/100\n",
      "483/483 [==============================] - 0s 307us/sample - loss: 0.0957 - acc: 0.9607 - val_loss: 0.1747 - val_acc: 0.9565\n",
      "Epoch 31/100\n",
      "483/483 [==============================] - 0s 298us/sample - loss: 0.0955 - acc: 0.9669 - val_loss: 0.1901 - val_acc: 0.9565\n",
      "Epoch 32/100\n",
      "483/483 [==============================] - 0s 297us/sample - loss: 0.0945 - acc: 0.9627 - val_loss: 0.2096 - val_acc: 0.9565\n",
      "Epoch 33/100\n",
      "483/483 [==============================] - 0s 299us/sample - loss: 0.0912 - acc: 0.9669 - val_loss: 0.1411 - val_acc: 0.9614\n",
      "Epoch 34/100\n",
      "483/483 [==============================] - 0s 300us/sample - loss: 0.0950 - acc: 0.9689 - val_loss: 0.2122 - val_acc: 0.9565\n",
      "Epoch 35/100\n",
      "483/483 [==============================] - 0s 322us/sample - loss: 0.0821 - acc: 0.9689 - val_loss: 0.2007 - val_acc: 0.9565\n",
      "Epoch 36/100\n",
      "483/483 [==============================] - 0s 339us/sample - loss: 0.0763 - acc: 0.9669 - val_loss: 0.2002 - val_acc: 0.9565\n",
      "Epoch 37/100\n",
      "483/483 [==============================] - 0s 302us/sample - loss: 0.0885 - acc: 0.9648 - val_loss: 0.1927 - val_acc: 0.9565\n",
      "Epoch 38/100\n",
      "483/483 [==============================] - 0s 306us/sample - loss: 0.0643 - acc: 0.9689 - val_loss: 0.2046 - val_acc: 0.9614\n",
      "Epoch 39/100\n",
      "483/483 [==============================] - 0s 298us/sample - loss: 0.0826 - acc: 0.9648 - val_loss: 0.2060 - val_acc: 0.9614\n",
      "Epoch 40/100\n",
      "483/483 [==============================] - 0s 311us/sample - loss: 0.0591 - acc: 0.9793 - val_loss: 0.2052 - val_acc: 0.9565\n",
      "Epoch 41/100\n",
      "483/483 [==============================] - 0s 300us/sample - loss: 0.0592 - acc: 0.9669 - val_loss: 0.2002 - val_acc: 0.9662\n",
      "Epoch 42/100\n",
      "483/483 [==============================] - 0s 331us/sample - loss: 0.0658 - acc: 0.9710 - val_loss: 0.2157 - val_acc: 0.9614\n",
      "Epoch 43/100\n",
      "483/483 [==============================] - 0s 326us/sample - loss: 0.0925 - acc: 0.9669 - val_loss: 0.2047 - val_acc: 0.9565\n",
      "Epoch 44/100\n",
      "483/483 [==============================] - 0s 316us/sample - loss: 0.0767 - acc: 0.9710 - val_loss: 0.1846 - val_acc: 0.9614\n",
      "Epoch 45/100\n",
      "483/483 [==============================] - 0s 306us/sample - loss: 0.0734 - acc: 0.9731 - val_loss: 0.1897 - val_acc: 0.9614\n",
      "Epoch 46/100\n",
      "483/483 [==============================] - 0s 309us/sample - loss: 0.0770 - acc: 0.9669 - val_loss: 0.2139 - val_acc: 0.9565\n",
      "Epoch 47/100\n",
      "483/483 [==============================] - 0s 304us/sample - loss: 0.0765 - acc: 0.9689 - val_loss: 0.2042 - val_acc: 0.9662\n",
      "Epoch 48/100\n",
      "483/483 [==============================] - 0s 296us/sample - loss: 0.0852 - acc: 0.9669 - val_loss: 0.2122 - val_acc: 0.9614\n",
      "Epoch 49/100\n",
      "483/483 [==============================] - 0s 302us/sample - loss: 0.0591 - acc: 0.9752 - val_loss: 0.1845 - val_acc: 0.9614\n",
      "Epoch 50/100\n",
      "483/483 [==============================] - 0s 304us/sample - loss: 0.0588 - acc: 0.9752 - val_loss: 0.2255 - val_acc: 0.9614\n",
      "Epoch 51/100\n",
      "483/483 [==============================] - 0s 301us/sample - loss: 0.0788 - acc: 0.9689 - val_loss: 0.2604 - val_acc: 0.9662\n",
      "Epoch 52/100\n",
      "483/483 [==============================] - 0s 300us/sample - loss: 0.0669 - acc: 0.9669 - val_loss: 0.2114 - val_acc: 0.9614\n",
      "Epoch 53/100\n",
      "483/483 [==============================] - 0s 299us/sample - loss: 0.0706 - acc: 0.9710 - val_loss: 0.2123 - val_acc: 0.9614\n",
      "Epoch 54/100\n",
      "483/483 [==============================] - 0s 305us/sample - loss: 0.0659 - acc: 0.9669 - val_loss: 0.2352 - val_acc: 0.9565\n",
      "Epoch 55/100\n",
      "483/483 [==============================] - 0s 306us/sample - loss: 0.0592 - acc: 0.9689 - val_loss: 0.1993 - val_acc: 0.9614\n",
      "Epoch 56/100\n",
      "483/483 [==============================] - 0s 302us/sample - loss: 0.0634 - acc: 0.9689 - val_loss: 0.2055 - val_acc: 0.9565\n",
      "Epoch 57/100\n",
      "483/483 [==============================] - 0s 304us/sample - loss: 0.0591 - acc: 0.9669 - val_loss: 0.2489 - val_acc: 0.9662\n",
      "Epoch 58/100\n"
     ]
    },
    {
     "name": "stdout",
     "output_type": "stream",
     "text": [
      "483/483 [==============================] - 0s 300us/sample - loss: 0.0606 - acc: 0.9648 - val_loss: 0.2573 - val_acc: 0.9565\n",
      "Epoch 59/100\n",
      "483/483 [==============================] - 0s 302us/sample - loss: 0.0500 - acc: 0.9731 - val_loss: 0.2504 - val_acc: 0.9614\n",
      "Epoch 60/100\n",
      "483/483 [==============================] - 0s 302us/sample - loss: 0.0746 - acc: 0.9648 - val_loss: 0.2392 - val_acc: 0.9662\n",
      "Epoch 61/100\n",
      "483/483 [==============================] - 0s 319us/sample - loss: 0.0478 - acc: 0.9710 - val_loss: 0.2419 - val_acc: 0.9662\n",
      "Epoch 62/100\n",
      "483/483 [==============================] - 0s 311us/sample - loss: 0.0582 - acc: 0.9752 - val_loss: 0.2242 - val_acc: 0.9614\n",
      "Epoch 63/100\n",
      "483/483 [==============================] - 0s 315us/sample - loss: 0.0744 - acc: 0.9689 - val_loss: 0.2277 - val_acc: 0.9662\n",
      "Epoch 64/100\n",
      "483/483 [==============================] - 0s 312us/sample - loss: 0.0567 - acc: 0.9710 - val_loss: 0.2117 - val_acc: 0.9710\n",
      "Epoch 65/100\n",
      "483/483 [==============================] - 0s 320us/sample - loss: 0.0489 - acc: 0.9814 - val_loss: 0.2504 - val_acc: 0.9614\n",
      "Epoch 66/100\n",
      "483/483 [==============================] - 0s 318us/sample - loss: 0.0839 - acc: 0.9586 - val_loss: 0.2052 - val_acc: 0.9758\n",
      "Epoch 67/100\n",
      "483/483 [==============================] - 0s 328us/sample - loss: 0.0469 - acc: 0.9814 - val_loss: 0.2277 - val_acc: 0.9662\n",
      "Epoch 68/100\n",
      "483/483 [==============================] - 0s 313us/sample - loss: 0.0593 - acc: 0.9772 - val_loss: 0.2276 - val_acc: 0.9710\n",
      "Epoch 69/100\n",
      "483/483 [==============================] - 0s 322us/sample - loss: 0.0604 - acc: 0.9689 - val_loss: 0.2143 - val_acc: 0.9710\n",
      "Epoch 70/100\n",
      "483/483 [==============================] - 0s 319us/sample - loss: 0.0705 - acc: 0.9710 - val_loss: 0.1986 - val_acc: 0.9662\n",
      "Epoch 71/100\n",
      "483/483 [==============================] - 0s 311us/sample - loss: 0.0525 - acc: 0.9752 - val_loss: 0.2055 - val_acc: 0.9614\n",
      "Epoch 72/100\n",
      "483/483 [==============================] - 0s 316us/sample - loss: 0.0452 - acc: 0.9772 - val_loss: 0.2239 - val_acc: 0.9662\n",
      "Epoch 73/100\n",
      "483/483 [==============================] - 0s 320us/sample - loss: 0.0733 - acc: 0.9710 - val_loss: 0.2359 - val_acc: 0.9565\n",
      "Epoch 74/100\n",
      "483/483 [==============================] - 0s 362us/sample - loss: 0.0517 - acc: 0.9669 - val_loss: 0.2710 - val_acc: 0.9565\n",
      "Epoch 75/100\n",
      "483/483 [==============================] - 0s 309us/sample - loss: 0.0455 - acc: 0.9752 - val_loss: 0.2623 - val_acc: 0.9662\n",
      "Epoch 76/100\n",
      "483/483 [==============================] - 0s 305us/sample - loss: 0.0738 - acc: 0.9669 - val_loss: 0.2215 - val_acc: 0.9710\n",
      "Epoch 77/100\n",
      "483/483 [==============================] - 0s 307us/sample - loss: 0.0457 - acc: 0.9772 - val_loss: 0.2754 - val_acc: 0.9614\n",
      "Epoch 78/100\n",
      "483/483 [==============================] - 0s 302us/sample - loss: 0.0604 - acc: 0.9772 - val_loss: 0.2557 - val_acc: 0.9758\n",
      "Epoch 79/100\n",
      "483/483 [==============================] - 0s 303us/sample - loss: 0.0479 - acc: 0.9793 - val_loss: 0.2620 - val_acc: 0.9614\n",
      "Epoch 80/100\n",
      "483/483 [==============================] - 0s 311us/sample - loss: 0.0369 - acc: 0.9772 - val_loss: 0.2781 - val_acc: 0.9614\n",
      "Epoch 81/100\n",
      "483/483 [==============================] - 0s 313us/sample - loss: 0.0428 - acc: 0.9772 - val_loss: 0.2737 - val_acc: 0.9662\n",
      "Epoch 82/100\n",
      "483/483 [==============================] - 0s 303us/sample - loss: 0.0794 - acc: 0.9710 - val_loss: 0.2734 - val_acc: 0.9662\n",
      "Epoch 83/100\n",
      "483/483 [==============================] - 0s 247us/sample - loss: 0.0536 - acc: 0.9731 - val_loss: 0.2103 - val_acc: 0.9710\n",
      "Epoch 84/100\n",
      "483/483 [==============================] - 0s 211us/sample - loss: 0.0514 - acc: 0.9710 - val_loss: 0.2641 - val_acc: 0.9614\n",
      "Epoch 85/100\n",
      "483/483 [==============================] - 0s 213us/sample - loss: 0.0552 - acc: 0.9752 - val_loss: 0.2596 - val_acc: 0.9710\n",
      "Epoch 86/100\n",
      "483/483 [==============================] - 0s 214us/sample - loss: 0.0489 - acc: 0.9814 - val_loss: 0.2593 - val_acc: 0.9614\n",
      "Epoch 87/100\n",
      "483/483 [==============================] - 0s 211us/sample - loss: 0.0449 - acc: 0.9752 - val_loss: 0.2584 - val_acc: 0.9662\n",
      "Epoch 88/100\n",
      "483/483 [==============================] - 0s 216us/sample - loss: 0.0395 - acc: 0.9814 - val_loss: 0.2613 - val_acc: 0.9710\n",
      "Epoch 89/100\n",
      "483/483 [==============================] - 0s 213us/sample - loss: 0.0364 - acc: 0.9834 - val_loss: 0.2815 - val_acc: 0.9710\n",
      "Epoch 90/100\n",
      "483/483 [==============================] - 0s 209us/sample - loss: 0.0775 - acc: 0.9710 - val_loss: 0.2273 - val_acc: 0.9662\n",
      "Epoch 91/100\n",
      "483/483 [==============================] - 0s 211us/sample - loss: 0.0524 - acc: 0.9731 - val_loss: 0.2571 - val_acc: 0.9565\n",
      "Epoch 92/100\n",
      "483/483 [==============================] - 0s 211us/sample - loss: 0.0478 - acc: 0.9689 - val_loss: 0.2630 - val_acc: 0.9710\n",
      "Epoch 93/100\n",
      "483/483 [==============================] - 0s 212us/sample - loss: 0.0418 - acc: 0.9752 - val_loss: 0.2665 - val_acc: 0.9662\n",
      "Epoch 94/100\n",
      "483/483 [==============================] - 0s 211us/sample - loss: 0.0459 - acc: 0.9793 - val_loss: 0.2601 - val_acc: 0.9758\n",
      "Epoch 95/100\n",
      "483/483 [==============================] - 0s 209us/sample - loss: 0.0613 - acc: 0.9731 - val_loss: 0.2672 - val_acc: 0.9710\n",
      "Epoch 96/100\n",
      "483/483 [==============================] - 0s 222us/sample - loss: 0.0503 - acc: 0.9669 - val_loss: 0.2735 - val_acc: 0.9662\n",
      "Epoch 97/100\n",
      "483/483 [==============================] - 0s 228us/sample - loss: 0.0562 - acc: 0.9772 - val_loss: 0.2481 - val_acc: 0.9662\n",
      "Epoch 98/100\n",
      "483/483 [==============================] - 0s 228us/sample - loss: 0.0414 - acc: 0.9793 - val_loss: 0.2512 - val_acc: 0.9710\n",
      "Epoch 99/100\n",
      "483/483 [==============================] - 0s 224us/sample - loss: 0.0452 - acc: 0.9814 - val_loss: 0.2485 - val_acc: 0.9758\n",
      "Epoch 100/100\n",
      "483/483 [==============================] - 0s 224us/sample - loss: 0.0392 - acc: 0.9834 - val_loss: 0.2565 - val_acc: 0.9710\n"
     ]
    }
   ],
   "source": [
    "history = model.fit(x=X_train, y=y_train, epochs=100, batch_size=32, validation_data=[X_test, y_test])"
   ]
  },
  {
   "cell_type": "code",
   "execution_count": 24,
   "id": "11a5718e",
   "metadata": {},
   "outputs": [
    {
     "name": "stderr",
     "output_type": "stream",
     "text": [
      "C:\\Users\\abhin\\anaconda3\\envs\\nlp_course\\lib\\site-packages\\matplotlib\\figure.py:445: UserWarning: Matplotlib is currently using module://matplotlib_inline.backend_inline, which is a non-GUI backend, so cannot show the figure.\n",
      "  % get_backend())\n"
     ]
    },
    {
     "data": {
      "image/png": "[encoded data removed]",
      "text/plain": [
       "<Figure size 1600x600 with 1 Axes>"
      ]
     },
     "metadata": {},
     "output_type": "display_data"
    }
   ],
   "source": [
    "## plotting accuracy over epochs\n",
    "\n",
    "plt, ax = plt.subplots(figsize=(16,6))\n",
    "\n",
    "ax.plot(history.history['acc'])\n",
    "ax.plot(history.history['val_acc'])\n",
    "ax.set_xlabel('Epochs')\n",
    "ax.set_ylabel('Accuracy')\n",
    "ax.legend(['Train', 'Test'])\n",
    "\n",
    "plt.show()"
   ]
  },
  {
   "cell_type": "raw",
   "id": "bebbe992",
   "metadata": {},
   "source": [
    "Task 3: Model evaluation"
   ]
  },
  {
   "cell_type": "code",
   "execution_count": 25,
   "id": "1b7955f9",
   "metadata": {},
   "outputs": [],
   "source": [
    "from sklearn.metrics import classification_report, precision_score, recall_score"
   ]
  },
  {
   "cell_type": "code",
   "execution_count": 26,
   "id": "c91a2f45",
   "metadata": {},
   "outputs": [],
   "source": [
    "preds = model.predict_classes(X_test)"
   ]
  },
  {
   "cell_type": "code",
   "execution_count": 27,
   "id": "a3ee223d",
   "metadata": {},
   "outputs": [
    {
     "name": "stdout",
     "output_type": "stream",
     "text": [
      "              precision    recall  f1-score   support\n",
      "\n",
      "           0       0.97      0.99      0.98       196\n",
      "           1       0.86      0.55      0.67        11\n",
      "\n",
      "    accuracy                           0.97       207\n",
      "   macro avg       0.92      0.77      0.83       207\n",
      "weighted avg       0.97      0.97      0.97       207\n",
      "\n"
     ]
    }
   ],
   "source": [
    "print(classification_report(y_test, preds))"
   ]
  },
  {
   "cell_type": "code",
   "execution_count": 28,
   "id": "a1125d6a",
   "metadata": {},
   "outputs": [
    {
     "data": {
      "text/plain": [
       "0.8571428571428571"
      ]
     },
     "execution_count": 28,
     "metadata": {},
     "output_type": "execute_result"
    }
   ],
   "source": [
    "precision_score(y_test, preds)"
   ]
  },
  {
   "cell_type": "code",
   "execution_count": 29,
   "id": "de9c9f63",
   "metadata": {},
   "outputs": [
    {
     "data": {
      "text/plain": [
       "0.5454545454545454"
      ]
     },
     "execution_count": 29,
     "metadata": {},
     "output_type": "execute_result"
    }
   ],
   "source": [
    "recall_score(y_test, preds)"
   ]
  },
  {
   "cell_type": "raw",
   "id": "0f82bb57",
   "metadata": {},
   "source": [
    "Task 4: Save model"
   ]
  },
  {
   "cell_type": "code",
   "execution_count": 30,
   "id": "febd5a45",
   "metadata": {},
   "outputs": [],
   "source": [
    "tf.keras.models.save_model(model, 'FraudDetector_acc97_precision86_recall55_epochs100.h5')"
   ]
  },
  {
   "cell_type": "code",
   "execution_count": null,
   "id": "6381267d",
   "metadata": {},
   "outputs": [],
   "source": []
  }
 ],
 "metadata": {
  "kernelspec": {
   "display_name": "Python 3 (ipykernel)",
   "language": "python",
   "name": "python3"
  },
  "language_info": {
   "codemirror_mode": {
    "name": "ipython",
    "version": 3
   },
   "file_extension": ".py",
   "mimetype": "text/x-python",
   "name": "python",
   "nbconvert_exporter": "python",
   "pygments_lexer": "ipython3",
   "version": "3.7.16"
  }
 },
 "nbformat": 4,
 "nbformat_minor": 5
}
