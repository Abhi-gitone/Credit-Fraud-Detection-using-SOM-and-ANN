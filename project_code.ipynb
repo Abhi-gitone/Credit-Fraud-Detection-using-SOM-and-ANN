{
 "cells": [
  {
   "cell_type": "markdown",
   "id": "682ecdb1",
   "metadata": {},
   "source": [
    "**Dataset**: Credit card applications data from the [UCI Machine Learning Repository](https://archive.ics.uci.edu/)\n",
    "\n",
    "**Task**: Fraud detection on an unlabeled dataset leveraing both unsupervised and supervised deep learning techniques such as Self Organizing Map (SOM) and Artificial Neural Network (ANN)."
   ]
  },
  {
   "cell_type": "code",
   "execution_count": 1,
   "id": "66da798d",
   "metadata": {},
   "outputs": [
    {
     "name": "stderr",
     "output_type": "stream",
     "text": [
      "C:\\Users\\abhin\\anaconda3\\envs\\nlp_course\\lib\\site-packages\\tensorflow\\python\\framework\\dtypes.py:526: FutureWarning: Passing (type, 1) or '1type' as a synonym of type is deprecated; in a future version of numpy, it will be understood as (type, (1,)) / '(1,)type'.\n",
      "  _np_qint8 = np.dtype([(\"qint8\", np.int8, 1)])\n",
      "C:\\Users\\abhin\\anaconda3\\envs\\nlp_course\\lib\\site-packages\\tensorflow\\python\\framework\\dtypes.py:527: FutureWarning: Passing (type, 1) or '1type' as a synonym of type is deprecated; in a future version of numpy, it will be understood as (type, (1,)) / '(1,)type'.\n",
      "  _np_quint8 = np.dtype([(\"quint8\", np.uint8, 1)])\n",
      "C:\\Users\\abhin\\anaconda3\\envs\\nlp_course\\lib\\site-packages\\tensorflow\\python\\framework\\dtypes.py:528: FutureWarning: Passing (type, 1) or '1type' as a synonym of type is deprecated; in a future version of numpy, it will be understood as (type, (1,)) / '(1,)type'.\n",
      "  _np_qint16 = np.dtype([(\"qint16\", np.int16, 1)])\n",
      "C:\\Users\\abhin\\anaconda3\\envs\\nlp_course\\lib\\site-packages\\tensorflow\\python\\framework\\dtypes.py:529: FutureWarning: Passing (type, 1) or '1type' as a synonym of type is deprecated; in a future version of numpy, it will be understood as (type, (1,)) / '(1,)type'.\n",
      "  _np_quint16 = np.dtype([(\"quint16\", np.uint16, 1)])\n",
      "C:\\Users\\abhin\\anaconda3\\envs\\nlp_course\\lib\\site-packages\\tensorflow\\python\\framework\\dtypes.py:530: FutureWarning: Passing (type, 1) or '1type' as a synonym of type is deprecated; in a future version of numpy, it will be understood as (type, (1,)) / '(1,)type'.\n",
      "  _np_qint32 = np.dtype([(\"qint32\", np.int32, 1)])\n",
      "C:\\Users\\abhin\\anaconda3\\envs\\nlp_course\\lib\\site-packages\\tensorflow\\python\\framework\\dtypes.py:535: FutureWarning: Passing (type, 1) or '1type' as a synonym of type is deprecated; in a future version of numpy, it will be understood as (type, (1,)) / '(1,)type'.\n",
      "  np_resource = np.dtype([(\"resource\", np.ubyte, 1)])\n"
     ]
    }
   ],
   "source": [
    "## imports\n",
    "import numpy as np\n",
    "import pandas as pd\n",
    "import seaborn as sns\n",
    "import matplotlib.pyplot as plt\n",
    "\n",
    "import tensorflow as tf"
   ]
  },
  {
   "cell_type": "code",
   "execution_count": 2,
   "id": "2360c652",
   "metadata": {},
   "outputs": [
    {
     "data": {
      "text/html": [
       "<div>\n",
       "<style scoped>\n",
       "    .dataframe tbody tr th:only-of-type {\n",
       "        vertical-align: middle;\n",
       "    }\n",
       "\n",
       "    .dataframe tbody tr th {\n",
       "        vertical-align: top;\n",
       "    }\n",
       "\n",
       "    .dataframe thead th {\n",
       "        text-align: right;\n",
       "    }\n",
       "</style>\n",
       "<table border=\"1\" class=\"dataframe\">\n",
       "  <thead>\n",
       "    <tr style=\"text-align: right;\">\n",
       "      <th></th>\n",
       "      <th>CustomerID</th>\n",
       "      <th>A1</th>\n",
       "      <th>A2</th>\n",
       "      <th>A3</th>\n",
       "      <th>A4</th>\n",
       "      <th>A5</th>\n",
       "      <th>A6</th>\n",
       "      <th>A7</th>\n",
       "      <th>A8</th>\n",
       "      <th>A9</th>\n",
       "      <th>A10</th>\n",
       "      <th>A11</th>\n",
       "      <th>A12</th>\n",
       "      <th>A13</th>\n",
       "      <th>A14</th>\n",
       "      <th>Class</th>\n",
       "    </tr>\n",
       "  </thead>\n",
       "  <tbody>\n",
       "    <tr>\n",
       "      <th>0</th>\n",
       "      <td>15776156</td>\n",
       "      <td>1</td>\n",
       "      <td>22.08</td>\n",
       "      <td>11.460</td>\n",
       "      <td>2</td>\n",
       "      <td>4</td>\n",
       "      <td>4</td>\n",
       "      <td>1.585</td>\n",
       "      <td>0</td>\n",
       "      <td>0</td>\n",
       "      <td>0</td>\n",
       "      <td>1</td>\n",
       "      <td>2</td>\n",
       "      <td>100</td>\n",
       "      <td>1213</td>\n",
       "      <td>0</td>\n",
       "    </tr>\n",
       "    <tr>\n",
       "      <th>1</th>\n",
       "      <td>15739548</td>\n",
       "      <td>0</td>\n",
       "      <td>22.67</td>\n",
       "      <td>7.000</td>\n",
       "      <td>2</td>\n",
       "      <td>8</td>\n",
       "      <td>4</td>\n",
       "      <td>0.165</td>\n",
       "      <td>0</td>\n",
       "      <td>0</td>\n",
       "      <td>0</td>\n",
       "      <td>0</td>\n",
       "      <td>2</td>\n",
       "      <td>160</td>\n",
       "      <td>1</td>\n",
       "      <td>0</td>\n",
       "    </tr>\n",
       "    <tr>\n",
       "      <th>2</th>\n",
       "      <td>15662854</td>\n",
       "      <td>0</td>\n",
       "      <td>29.58</td>\n",
       "      <td>1.750</td>\n",
       "      <td>1</td>\n",
       "      <td>4</td>\n",
       "      <td>4</td>\n",
       "      <td>1.250</td>\n",
       "      <td>0</td>\n",
       "      <td>0</td>\n",
       "      <td>0</td>\n",
       "      <td>1</td>\n",
       "      <td>2</td>\n",
       "      <td>280</td>\n",
       "      <td>1</td>\n",
       "      <td>0</td>\n",
       "    </tr>\n",
       "    <tr>\n",
       "      <th>3</th>\n",
       "      <td>15687688</td>\n",
       "      <td>0</td>\n",
       "      <td>21.67</td>\n",
       "      <td>11.500</td>\n",
       "      <td>1</td>\n",
       "      <td>5</td>\n",
       "      <td>3</td>\n",
       "      <td>0.000</td>\n",
       "      <td>1</td>\n",
       "      <td>1</td>\n",
       "      <td>11</td>\n",
       "      <td>1</td>\n",
       "      <td>2</td>\n",
       "      <td>0</td>\n",
       "      <td>1</td>\n",
       "      <td>1</td>\n",
       "    </tr>\n",
       "    <tr>\n",
       "      <th>4</th>\n",
       "      <td>15715750</td>\n",
       "      <td>1</td>\n",
       "      <td>20.17</td>\n",
       "      <td>8.170</td>\n",
       "      <td>2</td>\n",
       "      <td>6</td>\n",
       "      <td>4</td>\n",
       "      <td>1.960</td>\n",
       "      <td>1</td>\n",
       "      <td>1</td>\n",
       "      <td>14</td>\n",
       "      <td>0</td>\n",
       "      <td>2</td>\n",
       "      <td>60</td>\n",
       "      <td>159</td>\n",
       "      <td>1</td>\n",
       "    </tr>\n",
       "    <tr>\n",
       "      <th>5</th>\n",
       "      <td>15571121</td>\n",
       "      <td>0</td>\n",
       "      <td>15.83</td>\n",
       "      <td>0.585</td>\n",
       "      <td>2</td>\n",
       "      <td>8</td>\n",
       "      <td>8</td>\n",
       "      <td>1.500</td>\n",
       "      <td>1</td>\n",
       "      <td>1</td>\n",
       "      <td>2</td>\n",
       "      <td>0</td>\n",
       "      <td>2</td>\n",
       "      <td>100</td>\n",
       "      <td>1</td>\n",
       "      <td>1</td>\n",
       "    </tr>\n",
       "    <tr>\n",
       "      <th>6</th>\n",
       "      <td>15726466</td>\n",
       "      <td>1</td>\n",
       "      <td>17.42</td>\n",
       "      <td>6.500</td>\n",
       "      <td>2</td>\n",
       "      <td>3</td>\n",
       "      <td>4</td>\n",
       "      <td>0.125</td>\n",
       "      <td>0</td>\n",
       "      <td>0</td>\n",
       "      <td>0</td>\n",
       "      <td>0</td>\n",
       "      <td>2</td>\n",
       "      <td>60</td>\n",
       "      <td>101</td>\n",
       "      <td>0</td>\n",
       "    </tr>\n",
       "    <tr>\n",
       "      <th>7</th>\n",
       "      <td>15660390</td>\n",
       "      <td>0</td>\n",
       "      <td>58.67</td>\n",
       "      <td>4.460</td>\n",
       "      <td>2</td>\n",
       "      <td>11</td>\n",
       "      <td>8</td>\n",
       "      <td>3.040</td>\n",
       "      <td>1</td>\n",
       "      <td>1</td>\n",
       "      <td>6</td>\n",
       "      <td>0</td>\n",
       "      <td>2</td>\n",
       "      <td>43</td>\n",
       "      <td>561</td>\n",
       "      <td>1</td>\n",
       "    </tr>\n",
       "    <tr>\n",
       "      <th>8</th>\n",
       "      <td>15663942</td>\n",
       "      <td>1</td>\n",
       "      <td>27.83</td>\n",
       "      <td>1.000</td>\n",
       "      <td>1</td>\n",
       "      <td>2</td>\n",
       "      <td>8</td>\n",
       "      <td>3.000</td>\n",
       "      <td>0</td>\n",
       "      <td>0</td>\n",
       "      <td>0</td>\n",
       "      <td>0</td>\n",
       "      <td>2</td>\n",
       "      <td>176</td>\n",
       "      <td>538</td>\n",
       "      <td>0</td>\n",
       "    </tr>\n",
       "    <tr>\n",
       "      <th>9</th>\n",
       "      <td>15638610</td>\n",
       "      <td>0</td>\n",
       "      <td>55.75</td>\n",
       "      <td>7.080</td>\n",
       "      <td>2</td>\n",
       "      <td>4</td>\n",
       "      <td>8</td>\n",
       "      <td>6.750</td>\n",
       "      <td>1</td>\n",
       "      <td>1</td>\n",
       "      <td>3</td>\n",
       "      <td>1</td>\n",
       "      <td>2</td>\n",
       "      <td>100</td>\n",
       "      <td>51</td>\n",
       "      <td>0</td>\n",
       "    </tr>\n",
       "  </tbody>\n",
       "</table>\n",
       "</div>"
      ],
      "text/plain": [
       "   CustomerID  A1     A2      A3  A4  A5  A6     A7  A8  A9  A10  A11  A12  \\\n",
       "0    15776156   1  22.08  11.460   2   4   4  1.585   0   0    0    1    2   \n",
       "1    15739548   0  22.67   7.000   2   8   4  0.165   0   0    0    0    2   \n",
       "2    15662854   0  29.58   1.750   1   4   4  1.250   0   0    0    1    2   \n",
       "3    15687688   0  21.67  11.500   1   5   3  0.000   1   1   11    1    2   \n",
       "4    15715750   1  20.17   8.170   2   6   4  1.960   1   1   14    0    2   \n",
       "5    15571121   0  15.83   0.585   2   8   8  1.500   1   1    2    0    2   \n",
       "6    15726466   1  17.42   6.500   2   3   4  0.125   0   0    0    0    2   \n",
       "7    15660390   0  58.67   4.460   2  11   8  3.040   1   1    6    0    2   \n",
       "8    15663942   1  27.83   1.000   1   2   8  3.000   0   0    0    0    2   \n",
       "9    15638610   0  55.75   7.080   2   4   8  6.750   1   1    3    1    2   \n",
       "\n",
       "   A13   A14  Class  \n",
       "0  100  1213      0  \n",
       "1  160     1      0  \n",
       "2  280     1      0  \n",
       "3    0     1      1  \n",
       "4   60   159      1  \n",
       "5  100     1      1  \n",
       "6   60   101      0  \n",
       "7   43   561      1  \n",
       "8  176   538      0  \n",
       "9  100    51      0  "
      ]
     },
     "execution_count": 2,
     "metadata": {},
     "output_type": "execute_result"
    }
   ],
   "source": [
    "## load dataset\n",
    "data = pd.read_csv('Credit_Card_Applications.csv')\n",
    "data.head(10)"
   ]
  },
  {
   "cell_type": "raw",
   "id": "d739840f",
   "metadata": {},
   "source": [
    "Task 1: Identify frauds from the unlabeled data using Self Organizing Map (SOM)"
   ]
  },
  {
   "cell_type": "code",
   "execution_count": 3,
   "id": "950b95ab",
   "metadata": {},
   "outputs": [],
   "source": [
    "## feature label split\n",
    "X = data.iloc[:,:-1].values ## keeping customer id to identify fraud instances later from the original dataset\n",
    "y = data.iloc[:,-1].values"
   ]
  },
  {
   "cell_type": "code",
   "execution_count": 4,
   "id": "e0c64a75",
   "metadata": {},
   "outputs": [],
   "source": [
    "## feature scaling\n",
    "from sklearn.preprocessing import MinMaxScaler\n",
    "scaler = MinMaxScaler(feature_range=(0,1))\n",
    "X = scaler.fit_transform(X)"
   ]
  },
  {
   "cell_type": "code",
   "execution_count": 5,
   "id": "c57f5360",
   "metadata": {},
   "outputs": [
    {
     "data": {
      "text/plain": [
       "(690, 15)"
      ]
     },
     "execution_count": 5,
     "metadata": {},
     "output_type": "execute_result"
    }
   ],
   "source": [
    "X.shape"
   ]
  },
  {
   "cell_type": "code",
   "execution_count": 6,
   "id": "c72252a0",
   "metadata": {},
   "outputs": [
    {
     "data": {
      "text/plain": [
       "array([0, 0, 0, 1, 1], dtype=int64)"
      ]
     },
     "execution_count": 6,
     "metadata": {},
     "output_type": "execute_result"
    }
   ],
   "source": [
    "y[:5]"
   ]
  },
  {
   "cell_type": "code",
   "execution_count": 7,
   "id": "6bc621d1",
   "metadata": {},
   "outputs": [],
   "source": [
    "from minisom import MiniSom\n",
    "som = MiniSom(x=5, y=5, input_len= 15, sigma= 1.0, learning_rate = 0.01) \n",
    "## sigma-->radius of neighborhoods in the SOM grid\n",
    "som.random_weights_init(X) ## initialize random weight for each SOM node\n",
    "som.train_random(data = X, num_iteration = 100)"
   ]
  },
  {
   "cell_type": "code",
   "execution_count": 8,
   "id": "79338658",
   "metadata": {},
   "outputs": [
    {
     "data": {
      "image/png": "[encoded data removed]",
      "text/plain": [
       "<Figure size 640x480 with 2 Axes>"
      ]
     },
     "metadata": {},
     "output_type": "display_data"
    },
    {
     "name": "stdout",
     "output_type": "stream",
     "text": [
      "red --> fraud that got approval, green --> fraud that did not get approval, rest --> not frauds\n"
     ]
    }
   ],
   "source": [
    "from pylab import bone, pcolor, colorbar, plot, show\n",
    "bone()\n",
    "pcolor(som.distance_map().T) ## som.distance_map() --> Mean Interneuron Distance (MID) for each winning node identified by SOM\n",
    "colorbar() ## to reference MID against colored grid\n",
    "## Big value of MID --> nodes are outliers in their neighborhoods (defined by radius) --> outliers --> fraud\n",
    "markers = ['o', 's']\n",
    "colors = ['r', 'g']\n",
    "for i, x in enumerate(X): ## i-->index, x-->feature_vector\n",
    "    w = som.winner(x) ## w --> winning node for feature vector at index i\n",
    "    plot(w[0] + 0.5, ## x coordinate of center of winning SOM node\n",
    "         w[1] + 0.5, ## y coordinate of center of winning SOM node\n",
    "         markers[y[i]],\n",
    "         markeredgecolor = colors[y[i]], ## r --> approved (high priority fraud), g --> not approved (preventable fraud)\n",
    "         markerfacecolor = 'None',\n",
    "         markersize = 10,\n",
    "         markeredgewidth = 2)\n",
    "show()\n",
    "\n",
    "print('red --> fraud that got approval, green --> fraud that did not get approval, rest --> not frauds')"
   ]
  },
  {
   "cell_type": "markdown",
   "id": "ddcb28d8",
   "metadata": {},
   "source": [
    "**Important**: Some cluster neurons have high Mean Interneuron Distance (MID), meaning they represent outliers (i.e. potential fraud)s. Also, the cluster represented by that neuron has both approved and un-approved credit cards, meaning some potential frauds have been issued credit cards. The next task is to find all samples represented by cluster neurons with high Mean Interneuron Distance (MID)."
   ]
  },
  {
   "cell_type": "code",
   "execution_count": 10,
   "id": "fb0bbe5c",
   "metadata": {},
   "outputs": [
    {
     "data": {
      "text/plain": [
       "<matplotlib.axes._subplots.AxesSubplot at 0x24e60c73fc8>"
      ]
     },
     "execution_count": 10,
     "metadata": {},
     "output_type": "execute_result"
    },
    {
     "data": {
      "image/png": "[encoded data removed]",
      "text/plain": [
       "<Figure size 640x480 with 1 Axes>"
      ]
     },
     "metadata": {},
     "output_type": "display_data"
    }
   ],
   "source": [
    "## plotting a histogram of Mean Interneuron Distance for the SOM cluster neurons\n",
    "\n",
    "sns.histplot(data=som.distance_map().reshape(25,1))"
   ]
  },
  {
   "cell_type": "raw",
   "id": "98042db4",
   "metadata": {},
   "source": [
    "For the purpose of this project we'll keep 0.5 as the MID threshold for classifying frauds. It's a rather simplistic but intuitive approach. Alternatively, concepts such as z-score or percentile could be used."
   ]
  },
  {
   "cell_type": "code",
   "execution_count": 11,
   "id": "4d488f3f",
   "metadata": {},
   "outputs": [],
   "source": [
    "threshold = 0.5"
   ]
  },
  {
   "cell_type": "code",
   "execution_count": 12,
   "id": "6f9eba10",
   "metadata": {},
   "outputs": [
    {
     "data": {
      "text/plain": [
       "[(0, 1), (0, 2), (0, 3), (1, 2)]"
      ]
     },
     "execution_count": 12,
     "metadata": {},
     "output_type": "execute_result"
    }
   ],
   "source": [
    "## get all cluster neurons with MID >= threshold\n",
    "\n",
    "fraud_clusters = list()\n",
    "\n",
    "for x,y in zip(np.where(som.distance_map()>=threshold)[0], np.where(som.distance_map()>=0.9)[1]):\n",
    "    fraud_clusters.append((x,y))\n",
    "    \n",
    "fraud_clusters"
   ]
  },
  {
   "cell_type": "code",
   "execution_count": 13,
   "id": "37d623a4",
   "metadata": {},
   "outputs": [],
   "source": [
    "## mappings --> each cluster mapped to corresponding samples\n",
    "mappings = som.win_map(X)"
   ]
  },
  {
   "cell_type": "code",
   "execution_count": 14,
   "id": "8fb6e337",
   "metadata": {},
   "outputs": [
    {
     "data": {
      "text/plain": [
       "array([15739548, 15699839, 15610042, 15648069, 15731586, 15705918,\n",
       "       15706762, 15568162, 15672894, 15575605, 15644453, 15756538,\n",
       "       15651868, 15694666, 15728523, 15716082, 15646594, 15699238,\n",
       "       15593959, 15629750, 15651460, 15734578, 15675926, 15672637,\n",
       "       15592999, 15603565, 15577771, 15769548, 15742009, 15752344,\n",
       "       15736533, 15664720, 15593834, 15673907, 15627328, 15737909,\n",
       "       15599272, 15660528, 15779207, 15611409, 15711299, 15609987,\n",
       "       15752578, 15792107, 15721504, 15567919, 15687634, 15666096,\n",
       "       15609758, 15636454, 15638751, 15611682, 15641007, 15608916,\n",
       "       15615296, 15618258, 15805261, 15767729, 15711446, 15787693,\n",
       "       15688210, 15704509, 15793366, 15623668, 15793317, 15735106,\n",
       "       15688059, 15646521, 15754578, 15638272, 15660263, 15683276,\n",
       "       15652289, 15642001, 15768777, 15791326, 15678779, 15779586,\n",
       "       15730150, 15608595, 15719940, 15761158, 15711742, 15761733,\n",
       "       15770995, 15666166, 15605872, 15736399, 15766734, 15667934,\n",
       "       15665087, 15786237, 15580914, 15686461, 15684512, 15680643,\n",
       "       15692137, 15668830, 15796569, 15767358, 15805212, 15712877,\n",
       "       15691150, 15785339, 15678210, 15573520, 15740458, 15686885,\n",
       "       15567839, 15664615, 15607986, 15585928, 15579583, 15642336,\n",
       "       15680895, 15716276, 15807546, 15740487, 15583067, 15593345,\n",
       "       15773869, 15796111, 15578722, 15811742, 15809800, 15623072,\n",
       "       15676909, 15802071, 15790630, 15750055, 15647898, 15679801,\n",
       "       15702571, 15748499, 15622083, 15569682, 15803682, 15646190,\n",
       "       15587038, 15715907, 15770406, 15592773, 15732943, 15768342,\n",
       "       15781975, 15770255, 15748532, 15773789, 15794868, 15762392,\n",
       "       15705506, 15812470, 15689692, 15591107, 15674583, 15588854,\n",
       "       15788215, 15672357, 15699294, 15722535])"
      ]
     },
     "execution_count": 14,
     "metadata": {},
     "output_type": "execute_result"
    }
   ],
   "source": [
    "frauds = list()\n",
    "\n",
    "for cluster in fraud_clusters:\n",
    "    cluster_frauds = [int(x) for x in scaler.inverse_transform(mappings[cluster])[:,0]]\n",
    "    frauds.extend(cluster_frauds)\n",
    "    \n",
    "frauds = np.array(frauds)\n",
    "frauds"
   ]
  },
  {
   "cell_type": "code",
   "execution_count": 15,
   "id": "5d409962",
   "metadata": {},
   "outputs": [
    {
     "data": {
      "text/plain": [
       "160"
      ]
     },
     "execution_count": 15,
     "metadata": {},
     "output_type": "execute_result"
    }
   ],
   "source": [
    "len(frauds)"
   ]
  },
  {
   "cell_type": "markdown",
   "id": "9932208a",
   "metadata": {},
   "source": [
    "**Important**: After starting with an unsupervised learning technique (SOMs), we have found 160 potential frauds in our dataset without depending on a label. However, in order to make our system more robust, we can use the frauds we've discovered to create a label for our dataset, and further train an Artificial Neural Network (ANN) with the new information to attain higher accuracy in fraud detection."
   ]
  },
  {
   "cell_type": "raw",
   "id": "db003d7b",
   "metadata": {},
   "source": [
    "Task 2: Labeling the dataset and leveraging ANN to enhance fraud detection"
   ]
  },
  {
   "cell_type": "code",
   "execution_count": 16,
   "id": "7cfbdf03",
   "metadata": {},
   "outputs": [
    {
     "data": {
      "text/plain": [
       "0    530\n",
       "1    160\n",
       "Name: Fraud, dtype: int64"
      ]
     },
     "execution_count": 16,
     "metadata": {},
     "output_type": "execute_result"
    }
   ],
   "source": [
    "## label the data\n",
    "data['Fraud'] = data['CustomerID'].apply(lambda x: 1 if x in frauds else 0)\n",
    "data['Fraud'].value_counts()"
   ]
  },
  {
   "cell_type": "code",
   "execution_count": 17,
   "id": "cf8820e2",
   "metadata": {},
   "outputs": [
    {
     "data": {
      "text/html": [
       "<div>\n",
       "<style scoped>\n",
       "    .dataframe tbody tr th:only-of-type {\n",
       "        vertical-align: middle;\n",
       "    }\n",
       "\n",
       "    .dataframe tbody tr th {\n",
       "        vertical-align: top;\n",
       "    }\n",
       "\n",
       "    .dataframe thead th {\n",
       "        text-align: right;\n",
       "    }\n",
       "</style>\n",
       "<table border=\"1\" class=\"dataframe\">\n",
       "  <thead>\n",
       "    <tr style=\"text-align: right;\">\n",
       "      <th></th>\n",
       "      <th>CustomerID</th>\n",
       "      <th>A1</th>\n",
       "      <th>A2</th>\n",
       "      <th>A3</th>\n",
       "      <th>A4</th>\n",
       "      <th>A5</th>\n",
       "      <th>A6</th>\n",
       "      <th>A7</th>\n",
       "      <th>A8</th>\n",
       "      <th>A9</th>\n",
       "      <th>A10</th>\n",
       "      <th>A11</th>\n",
       "      <th>A12</th>\n",
       "      <th>A13</th>\n",
       "      <th>A14</th>\n",
       "      <th>Class</th>\n",
       "      <th>Fraud</th>\n",
       "    </tr>\n",
       "  </thead>\n",
       "  <tbody>\n",
       "    <tr>\n",
       "      <th>0</th>\n",
       "      <td>15776156</td>\n",
       "      <td>1</td>\n",
       "      <td>22.08</td>\n",
       "      <td>11.460</td>\n",
       "      <td>2</td>\n",
       "      <td>4</td>\n",
       "      <td>4</td>\n",
       "      <td>1.585</td>\n",
       "      <td>0</td>\n",
       "      <td>0</td>\n",
       "      <td>0</td>\n",
       "      <td>1</td>\n",
       "      <td>2</td>\n",
       "      <td>100</td>\n",
       "      <td>1213</td>\n",
       "      <td>0</td>\n",
       "      <td>0</td>\n",
       "    </tr>\n",
       "    <tr>\n",
       "      <th>1</th>\n",
       "      <td>15739548</td>\n",
       "      <td>0</td>\n",
       "      <td>22.67</td>\n",
       "      <td>7.000</td>\n",
       "      <td>2</td>\n",
       "      <td>8</td>\n",
       "      <td>4</td>\n",
       "      <td>0.165</td>\n",
       "      <td>0</td>\n",
       "      <td>0</td>\n",
       "      <td>0</td>\n",
       "      <td>0</td>\n",
       "      <td>2</td>\n",
       "      <td>160</td>\n",
       "      <td>1</td>\n",
       "      <td>0</td>\n",
       "      <td>1</td>\n",
       "    </tr>\n",
       "    <tr>\n",
       "      <th>2</th>\n",
       "      <td>15662854</td>\n",
       "      <td>0</td>\n",
       "      <td>29.58</td>\n",
       "      <td>1.750</td>\n",
       "      <td>1</td>\n",
       "      <td>4</td>\n",
       "      <td>4</td>\n",
       "      <td>1.250</td>\n",
       "      <td>0</td>\n",
       "      <td>0</td>\n",
       "      <td>0</td>\n",
       "      <td>1</td>\n",
       "      <td>2</td>\n",
       "      <td>280</td>\n",
       "      <td>1</td>\n",
       "      <td>0</td>\n",
       "      <td>0</td>\n",
       "    </tr>\n",
       "    <tr>\n",
       "      <th>3</th>\n",
       "      <td>15687688</td>\n",
       "      <td>0</td>\n",
       "      <td>21.67</td>\n",
       "      <td>11.500</td>\n",
       "      <td>1</td>\n",
       "      <td>5</td>\n",
       "      <td>3</td>\n",
       "      <td>0.000</td>\n",
       "      <td>1</td>\n",
       "      <td>1</td>\n",
       "      <td>11</td>\n",
       "      <td>1</td>\n",
       "      <td>2</td>\n",
       "      <td>0</td>\n",
       "      <td>1</td>\n",
       "      <td>1</td>\n",
       "      <td>0</td>\n",
       "    </tr>\n",
       "    <tr>\n",
       "      <th>4</th>\n",
       "      <td>15715750</td>\n",
       "      <td>1</td>\n",
       "      <td>20.17</td>\n",
       "      <td>8.170</td>\n",
       "      <td>2</td>\n",
       "      <td>6</td>\n",
       "      <td>4</td>\n",
       "      <td>1.960</td>\n",
       "      <td>1</td>\n",
       "      <td>1</td>\n",
       "      <td>14</td>\n",
       "      <td>0</td>\n",
       "      <td>2</td>\n",
       "      <td>60</td>\n",
       "      <td>159</td>\n",
       "      <td>1</td>\n",
       "      <td>0</td>\n",
       "    </tr>\n",
       "    <tr>\n",
       "      <th>5</th>\n",
       "      <td>15571121</td>\n",
       "      <td>0</td>\n",
       "      <td>15.83</td>\n",
       "      <td>0.585</td>\n",
       "      <td>2</td>\n",
       "      <td>8</td>\n",
       "      <td>8</td>\n",
       "      <td>1.500</td>\n",
       "      <td>1</td>\n",
       "      <td>1</td>\n",
       "      <td>2</td>\n",
       "      <td>0</td>\n",
       "      <td>2</td>\n",
       "      <td>100</td>\n",
       "      <td>1</td>\n",
       "      <td>1</td>\n",
       "      <td>0</td>\n",
       "    </tr>\n",
       "    <tr>\n",
       "      <th>6</th>\n",
       "      <td>15726466</td>\n",
       "      <td>1</td>\n",
       "      <td>17.42</td>\n",
       "      <td>6.500</td>\n",
       "      <td>2</td>\n",
       "      <td>3</td>\n",
       "      <td>4</td>\n",
       "      <td>0.125</td>\n",
       "      <td>0</td>\n",
       "      <td>0</td>\n",
       "      <td>0</td>\n",
       "      <td>0</td>\n",
       "      <td>2</td>\n",
       "      <td>60</td>\n",
       "      <td>101</td>\n",
       "      <td>0</td>\n",
       "      <td>0</td>\n",
       "    </tr>\n",
       "    <tr>\n",
       "      <th>7</th>\n",
       "      <td>15660390</td>\n",
       "      <td>0</td>\n",
       "      <td>58.67</td>\n",
       "      <td>4.460</td>\n",
       "      <td>2</td>\n",
       "      <td>11</td>\n",
       "      <td>8</td>\n",
       "      <td>3.040</td>\n",
       "      <td>1</td>\n",
       "      <td>1</td>\n",
       "      <td>6</td>\n",
       "      <td>0</td>\n",
       "      <td>2</td>\n",
       "      <td>43</td>\n",
       "      <td>561</td>\n",
       "      <td>1</td>\n",
       "      <td>0</td>\n",
       "    </tr>\n",
       "    <tr>\n",
       "      <th>8</th>\n",
       "      <td>15663942</td>\n",
       "      <td>1</td>\n",
       "      <td>27.83</td>\n",
       "      <td>1.000</td>\n",
       "      <td>1</td>\n",
       "      <td>2</td>\n",
       "      <td>8</td>\n",
       "      <td>3.000</td>\n",
       "      <td>0</td>\n",
       "      <td>0</td>\n",
       "      <td>0</td>\n",
       "      <td>0</td>\n",
       "      <td>2</td>\n",
       "      <td>176</td>\n",
       "      <td>538</td>\n",
       "      <td>0</td>\n",
       "      <td>0</td>\n",
       "    </tr>\n",
       "    <tr>\n",
       "      <th>9</th>\n",
       "      <td>15638610</td>\n",
       "      <td>0</td>\n",
       "      <td>55.75</td>\n",
       "      <td>7.080</td>\n",
       "      <td>2</td>\n",
       "      <td>4</td>\n",
       "      <td>8</td>\n",
       "      <td>6.750</td>\n",
       "      <td>1</td>\n",
       "      <td>1</td>\n",
       "      <td>3</td>\n",
       "      <td>1</td>\n",
       "      <td>2</td>\n",
       "      <td>100</td>\n",
       "      <td>51</td>\n",
       "      <td>0</td>\n",
       "      <td>0</td>\n",
       "    </tr>\n",
       "  </tbody>\n",
       "</table>\n",
       "</div>"
      ],
      "text/plain": [
       "   CustomerID  A1     A2      A3  A4  A5  A6     A7  A8  A9  A10  A11  A12  \\\n",
       "0    15776156   1  22.08  11.460   2   4   4  1.585   0   0    0    1    2   \n",
       "1    15739548   0  22.67   7.000   2   8   4  0.165   0   0    0    0    2   \n",
       "2    15662854   0  29.58   1.750   1   4   4  1.250   0   0    0    1    2   \n",
       "3    15687688   0  21.67  11.500   1   5   3  0.000   1   1   11    1    2   \n",
       "4    15715750   1  20.17   8.170   2   6   4  1.960   1   1   14    0    2   \n",
       "5    15571121   0  15.83   0.585   2   8   8  1.500   1   1    2    0    2   \n",
       "6    15726466   1  17.42   6.500   2   3   4  0.125   0   0    0    0    2   \n",
       "7    15660390   0  58.67   4.460   2  11   8  3.040   1   1    6    0    2   \n",
       "8    15663942   1  27.83   1.000   1   2   8  3.000   0   0    0    0    2   \n",
       "9    15638610   0  55.75   7.080   2   4   8  6.750   1   1    3    1    2   \n",
       "\n",
       "   A13   A14  Class  Fraud  \n",
       "0  100  1213      0      0  \n",
       "1  160     1      0      1  \n",
       "2  280     1      0      0  \n",
       "3    0     1      1      0  \n",
       "4   60   159      1      0  \n",
       "5  100     1      1      0  \n",
       "6   60   101      0      0  \n",
       "7   43   561      1      0  \n",
       "8  176   538      0      0  \n",
       "9  100    51      0      0  "
      ]
     },
     "execution_count": 17,
     "metadata": {},
     "output_type": "execute_result"
    }
   ],
   "source": [
    "data.head(10)"
   ]
  },
  {
   "cell_type": "code",
   "execution_count": 18,
   "id": "3516275a",
   "metadata": {},
   "outputs": [],
   "source": [
    "## feature label split\n",
    "\n",
    "X = data.iloc[:, 1:-1].values\n",
    "y = data.iloc[:, -1].values"
   ]
  },
  {
   "cell_type": "code",
   "execution_count": 19,
   "id": "7511f44e",
   "metadata": {},
   "outputs": [],
   "source": [
    "## train test split\n",
    "\n",
    "from sklearn.model_selection import StratifiedShuffleSplit\n",
    "\n",
    "sss = StratifiedShuffleSplit(test_size=0.3, random_state=27)\n",
    "\n",
    "for train_idx, test_idx in sss.split(X,y):\n",
    "    X_train, X_test = X[train_idx], X[test_idx]\n",
    "    y_train, y_test = y[train_idx], y[test_idx]"
   ]
  },
  {
   "cell_type": "raw",
   "id": "02bfe0f0",
   "metadata": {},
   "source": [
    "## oversampling the training set for the minority class (frauds)\n",
    "\n",
    "from imblearn.over_sampling import ADASYN ## Adaptive Synthetic Sampling\n",
    "\n",
    "sampler = ADASYN(random_state=27)\n",
    "\n",
    "X_train, y_train = sampler.fit_resample(X_train, y_train)"
   ]
  },
  {
   "cell_type": "code",
   "execution_count": 20,
   "id": "67fed189",
   "metadata": {},
   "outputs": [
    {
     "data": {
      "text/plain": [
       "0.2318840579710145"
      ]
     },
     "execution_count": 20,
     "metadata": {},
     "output_type": "execute_result"
    }
   ],
   "source": [
    "## mean(y_train) = 0.5 --> perfectly balanced classes\n",
    "np.mean(y_train)"
   ]
  },
  {
   "cell_type": "code",
   "execution_count": 21,
   "id": "c57f2918",
   "metadata": {},
   "outputs": [],
   "source": [
    "## normalization\n",
    "\n",
    "from sklearn.preprocessing import MinMaxScaler\n",
    "\n",
    "feature_scaler = MinMaxScaler(feature_range=(0,1))\n",
    "\n",
    "feature_scaler.fit(X_train)\n",
    "X_train = feature_scaler.transform(X_train)\n",
    "X_test = feature_scaler.transform(X_test)"
   ]
  },
  {
   "cell_type": "code",
   "execution_count": 22,
   "id": "90ecfcef",
   "metadata": {},
   "outputs": [
    {
     "name": "stdout",
     "output_type": "stream",
     "text": [
      "WARNING:tensorflow:From C:\\Users\\abhin\\anaconda3\\envs\\nlp_course\\lib\\site-packages\\tensorflow\\python\\ops\\resource_variable_ops.py:435: colocate_with (from tensorflow.python.framework.ops) is deprecated and will be removed in a future version.\n",
      "Instructions for updating:\n",
      "Colocations handled automatically by placer.\n",
      "WARNING:tensorflow:From C:\\Users\\abhin\\anaconda3\\envs\\nlp_course\\lib\\site-packages\\tensorflow\\python\\keras\\layers\\core.py:143: calling dropout (from tensorflow.python.ops.nn_ops) with keep_prob is deprecated and will be removed in a future version.\n",
      "Instructions for updating:\n",
      "Please use `rate` instead of `keep_prob`. Rate should be set to `rate = 1 - keep_prob`.\n"
     ]
    }
   ],
   "source": [
    "## model building\n",
    "\n",
    "model = tf.keras.models.Sequential() ## instantiation\n",
    "\n",
    "## layers\n",
    "model.add(tf.keras.layers.Dense(units=10*X.shape[1], activation=tf.nn.leaky_relu, input_shape=(15,)))\n",
    "model.add(tf.keras.layers.Dropout(rate=0.30))\n",
    "\n",
    "model.add(tf.keras.layers.Dense(units=20*X.shape[1], activation=tf.nn.leaky_relu))\n",
    "model.add(tf.keras.layers.Dropout(rate=0.30))\n",
    "\n",
    "model.add(tf.keras.layers.Dense(units=30*X.shape[1], activation=tf.nn.leaky_relu))\n",
    "model.add(tf.keras.layers.Dropout(rate=0.50))\n",
    "\n",
    "model.add(tf.keras.layers.Dense(units=20*X.shape[1], activation=tf.nn.leaky_relu))\n",
    "model.add(tf.keras.layers.Dropout(rate=0.30))\n",
    "\n",
    "model.add(tf.keras.layers.Dense(units=10*X.shape[1], activation=tf.nn.leaky_relu))\n",
    "model.add(tf.keras.layers.Dropout(rate=0.30))\n",
    "\n",
    "## output\n",
    "model.add(tf.keras.layers.Dense(units=1, activation='sigmoid'))\n",
    "\n",
    "## compile\n",
    "model.compile(optimizer='adam', loss='binary_crossentropy', metrics=['accuracy'])"
   ]
  },
  {
   "cell_type": "code",
   "execution_count": 23,
   "id": "af4a5eec",
   "metadata": {},
   "outputs": [
    {
     "name": "stdout",
     "output_type": "stream",
     "text": [
      "_________________________________________________________________\n",
      "Layer (type)                 Output Shape              Param #   \n",
      "=================================================================\n",
      "dense (Dense)                (None, 150)               2400      \n",
      "_________________________________________________________________\n",
      "dropout (Dropout)            (None, 150)               0         \n",
      "_________________________________________________________________\n",
      "dense_1 (Dense)              (None, 300)               45300     \n",
      "_________________________________________________________________\n",
      "dropout_1 (Dropout)          (None, 300)               0         \n",
      "_________________________________________________________________\n",
      "dense_2 (Dense)              (None, 450)               135450    \n",
      "_________________________________________________________________\n",
      "dropout_2 (Dropout)          (None, 450)               0         \n",
      "_________________________________________________________________\n",
      "dense_3 (Dense)              (None, 300)               135300    \n",
      "_________________________________________________________________\n",
      "dropout_3 (Dropout)          (None, 300)               0         \n",
      "_________________________________________________________________\n",
      "dense_4 (Dense)              (None, 150)               45150     \n",
      "_________________________________________________________________\n",
      "dropout_4 (Dropout)          (None, 150)               0         \n",
      "_________________________________________________________________\n",
      "dense_5 (Dense)              (None, 1)                 151       \n",
      "=================================================================\n",
      "Total params: 363,751\n",
      "Trainable params: 363,751\n",
      "Non-trainable params: 0\n",
      "_________________________________________________________________\n"
     ]
    }
   ],
   "source": [
    "model.summary()"
   ]
  },
  {
   "cell_type": "code",
   "execution_count": 24,
   "id": "80cacb37",
   "metadata": {},
   "outputs": [
    {
     "name": "stdout",
     "output_type": "stream",
     "text": [
      "Train on 483 samples, validate on 207 samples\n",
      "WARNING:tensorflow:From C:\\Users\\abhin\\anaconda3\\envs\\nlp_course\\lib\\site-packages\\tensorflow\\python\\ops\\math_ops.py:3066: to_int32 (from tensorflow.python.ops.math_ops) is deprecated and will be removed in a future version.\n",
      "Instructions for updating:\n",
      "Use tf.cast instead.\n",
      "Epoch 1/100\n",
      "483/483 [==============================] - 1s 2ms/sample - loss: 0.5234 - acc: 0.7329 - val_loss: 0.4222 - val_acc: 0.7681\n",
      "Epoch 2/100\n",
      "483/483 [==============================] - 0s 310us/sample - loss: 0.4185 - acc: 0.7847 - val_loss: 0.3657 - val_acc: 0.8406\n",
      "Epoch 3/100\n",
      "483/483 [==============================] - 0s 309us/sample - loss: 0.3312 - acc: 0.8613 - val_loss: 0.3712 - val_acc: 0.8551\n",
      "Epoch 4/100\n",
      "483/483 [==============================] - 0s 304us/sample - loss: 0.2847 - acc: 0.8820 - val_loss: 0.2665 - val_acc: 0.8841\n",
      "Epoch 5/100\n",
      "483/483 [==============================] - 0s 302us/sample - loss: 0.2294 - acc: 0.9130 - val_loss: 0.2284 - val_acc: 0.8937\n",
      "Epoch 6/100\n",
      "483/483 [==============================] - 0s 307us/sample - loss: 0.1707 - acc: 0.9337 - val_loss: 0.2188 - val_acc: 0.8937\n",
      "Epoch 7/100\n",
      "483/483 [==============================] - 0s 326us/sample - loss: 0.1690 - acc: 0.9420 - val_loss: 0.2488 - val_acc: 0.9082\n",
      "Epoch 8/100\n",
      "483/483 [==============================] - 0s 323us/sample - loss: 0.1474 - acc: 0.9275 - val_loss: 0.2158 - val_acc: 0.9082\n",
      "Epoch 9/100\n",
      "483/483 [==============================] - 0s 323us/sample - loss: 0.1351 - acc: 0.9482 - val_loss: 0.1925 - val_acc: 0.9082\n",
      "Epoch 10/100\n",
      "483/483 [==============================] - 0s 323us/sample - loss: 0.1189 - acc: 0.9607 - val_loss: 0.1785 - val_acc: 0.9130\n",
      "Epoch 11/100\n",
      "483/483 [==============================] - 0s 315us/sample - loss: 0.1189 - acc: 0.9524 - val_loss: 0.1659 - val_acc: 0.8986\n",
      "Epoch 12/100\n",
      "483/483 [==============================] - 0s 309us/sample - loss: 0.1120 - acc: 0.9503 - val_loss: 0.1893 - val_acc: 0.9082\n",
      "Epoch 13/100\n",
      "483/483 [==============================] - 0s 303us/sample - loss: 0.1100 - acc: 0.9503 - val_loss: 0.1762 - val_acc: 0.9179\n",
      "Epoch 14/100\n",
      "483/483 [==============================] - 0s 301us/sample - loss: 0.1040 - acc: 0.9627 - val_loss: 0.1547 - val_acc: 0.9179\n",
      "Epoch 15/100\n",
      "483/483 [==============================] - 0s 318us/sample - loss: 0.0931 - acc: 0.9648 - val_loss: 0.1785 - val_acc: 0.9179\n",
      "Epoch 16/100\n",
      "483/483 [==============================] - 0s 356us/sample - loss: 0.0850 - acc: 0.9689 - val_loss: 0.1616 - val_acc: 0.9130\n",
      "Epoch 17/100\n",
      "483/483 [==============================] - 0s 303us/sample - loss: 0.1068 - acc: 0.9586 - val_loss: 0.1904 - val_acc: 0.9324\n",
      "Epoch 18/100\n",
      "483/483 [==============================] - 0s 303us/sample - loss: 0.0840 - acc: 0.9731 - val_loss: 0.1592 - val_acc: 0.9227\n",
      "Epoch 19/100\n",
      "483/483 [==============================] - 0s 304us/sample - loss: 0.0871 - acc: 0.9752 - val_loss: 0.1579 - val_acc: 0.9130\n",
      "Epoch 20/100\n",
      "483/483 [==============================] - 0s 307us/sample - loss: 0.0870 - acc: 0.9565 - val_loss: 0.1799 - val_acc: 0.9082\n",
      "Epoch 21/100\n",
      "483/483 [==============================] - 0s 302us/sample - loss: 0.0864 - acc: 0.9586 - val_loss: 0.1573 - val_acc: 0.9227\n",
      "Epoch 22/100\n",
      "483/483 [==============================] - 0s 305us/sample - loss: 0.0790 - acc: 0.9710 - val_loss: 0.1715 - val_acc: 0.9179\n",
      "Epoch 23/100\n",
      "483/483 [==============================] - 0s 308us/sample - loss: 0.0716 - acc: 0.9669 - val_loss: 0.1715 - val_acc: 0.9179\n",
      "Epoch 24/100\n",
      "483/483 [==============================] - 0s 321us/sample - loss: 0.0841 - acc: 0.9607 - val_loss: 0.1726 - val_acc: 0.9130\n",
      "Epoch 25/100\n",
      "483/483 [==============================] - 0s 323us/sample - loss: 0.0685 - acc: 0.9710 - val_loss: 0.1555 - val_acc: 0.9130\n",
      "Epoch 26/100\n",
      "483/483 [==============================] - 0s 310us/sample - loss: 0.0505 - acc: 0.9793 - val_loss: 0.1474 - val_acc: 0.9372\n",
      "Epoch 27/100\n",
      "483/483 [==============================] - 0s 305us/sample - loss: 0.0487 - acc: 0.9834 - val_loss: 0.1793 - val_acc: 0.9179\n",
      "Epoch 28/100\n",
      "483/483 [==============================] - 0s 305us/sample - loss: 0.0683 - acc: 0.9772 - val_loss: 0.2285 - val_acc: 0.9179\n",
      "Epoch 29/100\n",
      "483/483 [==============================] - 0s 323us/sample - loss: 0.0854 - acc: 0.9648 - val_loss: 0.1539 - val_acc: 0.9275\n",
      "Epoch 30/100\n",
      "483/483 [==============================] - 0s 313us/sample - loss: 0.0540 - acc: 0.9669 - val_loss: 0.1557 - val_acc: 0.9275\n",
      "Epoch 31/100\n",
      "483/483 [==============================] - 0s 304us/sample - loss: 0.0809 - acc: 0.9648 - val_loss: 0.1404 - val_acc: 0.9324\n",
      "Epoch 32/100\n",
      "483/483 [==============================] - 0s 314us/sample - loss: 0.0579 - acc: 0.9772 - val_loss: 0.1335 - val_acc: 0.9517\n",
      "Epoch 33/100\n",
      "483/483 [==============================] - 0s 323us/sample - loss: 0.0691 - acc: 0.9710 - val_loss: 0.1561 - val_acc: 0.9324\n",
      "Epoch 34/100\n",
      "483/483 [==============================] - 0s 322us/sample - loss: 0.0585 - acc: 0.9731 - val_loss: 0.1610 - val_acc: 0.9420\n",
      "Epoch 35/100\n",
      "483/483 [==============================] - 0s 308us/sample - loss: 0.0499 - acc: 0.9793 - val_loss: 0.1330 - val_acc: 0.9469\n",
      "Epoch 36/100\n",
      "483/483 [==============================] - 0s 305us/sample - loss: 0.0541 - acc: 0.9814 - val_loss: 0.1616 - val_acc: 0.9420\n",
      "Epoch 37/100\n",
      "483/483 [==============================] - 0s 305us/sample - loss: 0.0691 - acc: 0.9731 - val_loss: 0.1332 - val_acc: 0.9372\n",
      "Epoch 38/100\n",
      "483/483 [==============================] - 0s 304us/sample - loss: 0.0550 - acc: 0.9689 - val_loss: 0.1636 - val_acc: 0.9372\n",
      "Epoch 39/100\n",
      "483/483 [==============================] - 0s 302us/sample - loss: 0.0622 - acc: 0.9731 - val_loss: 0.1684 - val_acc: 0.9227\n",
      "Epoch 40/100\n",
      "483/483 [==============================] - 0s 310us/sample - loss: 0.0601 - acc: 0.9752 - val_loss: 0.1574 - val_acc: 0.9469\n",
      "Epoch 41/100\n",
      "483/483 [==============================] - 0s 349us/sample - loss: 0.0540 - acc: 0.9752 - val_loss: 0.1393 - val_acc: 0.9420\n",
      "Epoch 42/100\n",
      "483/483 [==============================] - 0s 330us/sample - loss: 0.0544 - acc: 0.9793 - val_loss: 0.2076 - val_acc: 0.9227\n",
      "Epoch 43/100\n",
      "483/483 [==============================] - 0s 324us/sample - loss: 0.0504 - acc: 0.9772 - val_loss: 0.1787 - val_acc: 0.9324\n",
      "Epoch 44/100\n",
      "483/483 [==============================] - 0s 323us/sample - loss: 0.0427 - acc: 0.9834 - val_loss: 0.1799 - val_acc: 0.9324\n",
      "Epoch 45/100\n",
      "483/483 [==============================] - 0s 321us/sample - loss: 0.0783 - acc: 0.9793 - val_loss: 0.1597 - val_acc: 0.9275\n",
      "Epoch 46/100\n",
      "483/483 [==============================] - 0s 311us/sample - loss: 0.1007 - acc: 0.9627 - val_loss: 0.2031 - val_acc: 0.9324\n",
      "Epoch 47/100\n",
      "483/483 [==============================] - 0s 307us/sample - loss: 0.0704 - acc: 0.9731 - val_loss: 0.1494 - val_acc: 0.9324\n",
      "Epoch 48/100\n",
      "483/483 [==============================] - 0s 305us/sample - loss: 0.0851 - acc: 0.9565 - val_loss: 0.1814 - val_acc: 0.9227\n",
      "Epoch 49/100\n",
      "483/483 [==============================] - 0s 309us/sample - loss: 0.0654 - acc: 0.9752 - val_loss: 0.1601 - val_acc: 0.9324\n",
      "Epoch 50/100\n",
      "483/483 [==============================] - 0s 317us/sample - loss: 0.0459 - acc: 0.9855 - val_loss: 0.1674 - val_acc: 0.9469\n",
      "Epoch 51/100\n",
      "483/483 [==============================] - 0s 352us/sample - loss: 0.0346 - acc: 0.9855 - val_loss: 0.1830 - val_acc: 0.9372\n",
      "Epoch 52/100\n",
      "483/483 [==============================] - 0s 289us/sample - loss: 0.0432 - acc: 0.9834 - val_loss: 0.1531 - val_acc: 0.9275\n",
      "Epoch 53/100\n",
      "483/483 [==============================] - 0s 302us/sample - loss: 0.0351 - acc: 0.9896 - val_loss: 0.2563 - val_acc: 0.9227\n",
      "Epoch 54/100\n",
      "483/483 [==============================] - 0s 299us/sample - loss: 0.0575 - acc: 0.9710 - val_loss: 0.1877 - val_acc: 0.9275\n",
      "Epoch 55/100\n",
      "483/483 [==============================] - 0s 309us/sample - loss: 0.0630 - acc: 0.9772 - val_loss: 0.1820 - val_acc: 0.9372\n",
      "Epoch 56/100\n",
      "483/483 [==============================] - 0s 298us/sample - loss: 0.0435 - acc: 0.9752 - val_loss: 0.1738 - val_acc: 0.9420\n",
      "Epoch 57/100\n",
      "483/483 [==============================] - 0s 296us/sample - loss: 0.0476 - acc: 0.9814 - val_loss: 0.1477 - val_acc: 0.9324\n",
      "Epoch 58/100\n"
     ]
    },
    {
     "name": "stdout",
     "output_type": "stream",
     "text": [
      "483/483 [==============================] - 0s 297us/sample - loss: 0.0421 - acc: 0.9834 - val_loss: 0.1941 - val_acc: 0.9324\n",
      "Epoch 59/100\n",
      "483/483 [==============================] - 0s 290us/sample - loss: 0.0512 - acc: 0.9855 - val_loss: 0.1564 - val_acc: 0.9372\n",
      "Epoch 60/100\n",
      "483/483 [==============================] - 0s 297us/sample - loss: 0.0406 - acc: 0.9814 - val_loss: 0.1735 - val_acc: 0.9372\n",
      "Epoch 61/100\n",
      "483/483 [==============================] - 0s 297us/sample - loss: 0.0440 - acc: 0.9814 - val_loss: 0.1981 - val_acc: 0.9324\n",
      "Epoch 62/100\n",
      "483/483 [==============================] - 0s 300us/sample - loss: 0.0374 - acc: 0.9855 - val_loss: 0.2054 - val_acc: 0.9275\n",
      "Epoch 63/100\n",
      "483/483 [==============================] - 0s 293us/sample - loss: 0.0311 - acc: 0.9896 - val_loss: 0.1974 - val_acc: 0.9420\n",
      "Epoch 64/100\n",
      "483/483 [==============================] - 0s 303us/sample - loss: 0.0440 - acc: 0.9896 - val_loss: 0.1892 - val_acc: 0.9372\n",
      "Epoch 65/100\n",
      "483/483 [==============================] - 0s 295us/sample - loss: 0.0521 - acc: 0.9834 - val_loss: 0.2094 - val_acc: 0.9372\n",
      "Epoch 66/100\n",
      "483/483 [==============================] - 0s 295us/sample - loss: 0.0485 - acc: 0.9814 - val_loss: 0.1715 - val_acc: 0.9372\n",
      "Epoch 67/100\n",
      "483/483 [==============================] - 0s 290us/sample - loss: 0.0493 - acc: 0.9814 - val_loss: 0.1510 - val_acc: 0.9517\n",
      "Epoch 68/100\n",
      "483/483 [==============================] - 0s 298us/sample - loss: 0.0428 - acc: 0.9834 - val_loss: 0.1863 - val_acc: 0.9372\n",
      "Epoch 69/100\n",
      "483/483 [==============================] - 0s 294us/sample - loss: 0.0408 - acc: 0.9834 - val_loss: 0.1702 - val_acc: 0.9517\n",
      "Epoch 70/100\n",
      "483/483 [==============================] - 0s 300us/sample - loss: 0.0646 - acc: 0.9834 - val_loss: 0.1348 - val_acc: 0.9469\n",
      "Epoch 71/100\n",
      "483/483 [==============================] - 0s 298us/sample - loss: 0.0478 - acc: 0.9772 - val_loss: 0.1532 - val_acc: 0.9420\n",
      "Epoch 72/100\n",
      "483/483 [==============================] - 0s 306us/sample - loss: 0.0295 - acc: 0.9896 - val_loss: 0.1877 - val_acc: 0.9469\n",
      "Epoch 73/100\n",
      "483/483 [==============================] - 0s 293us/sample - loss: 0.0341 - acc: 0.9917 - val_loss: 0.1889 - val_acc: 0.9372\n",
      "Epoch 74/100\n",
      "483/483 [==============================] - 0s 303us/sample - loss: 0.0390 - acc: 0.9793 - val_loss: 0.1462 - val_acc: 0.9517\n",
      "Epoch 75/100\n",
      "483/483 [==============================] - 0s 298us/sample - loss: 0.0614 - acc: 0.9689 - val_loss: 0.3278 - val_acc: 0.9275\n",
      "Epoch 76/100\n",
      "483/483 [==============================] - 0s 293us/sample - loss: 0.0532 - acc: 0.9855 - val_loss: 0.2282 - val_acc: 0.9275\n",
      "Epoch 77/100\n",
      "483/483 [==============================] - 0s 294us/sample - loss: 0.0450 - acc: 0.9752 - val_loss: 0.2061 - val_acc: 0.9372\n",
      "Epoch 78/100\n",
      "483/483 [==============================] - 0s 290us/sample - loss: 0.0458 - acc: 0.9814 - val_loss: 0.2048 - val_acc: 0.9324\n",
      "Epoch 79/100\n",
      "483/483 [==============================] - 0s 292us/sample - loss: 0.0511 - acc: 0.9793 - val_loss: 0.1975 - val_acc: 0.9275\n",
      "Epoch 80/100\n",
      "483/483 [==============================] - 0s 302us/sample - loss: 0.0470 - acc: 0.9793 - val_loss: 0.1515 - val_acc: 0.9227\n",
      "Epoch 81/100\n",
      "483/483 [==============================] - 0s 297us/sample - loss: 0.0352 - acc: 0.9917 - val_loss: 0.1703 - val_acc: 0.9372\n",
      "Epoch 82/100\n",
      "483/483 [==============================] - 0s 297us/sample - loss: 0.0407 - acc: 0.9855 - val_loss: 0.1711 - val_acc: 0.9372\n",
      "Epoch 83/100\n",
      "483/483 [==============================] - 0s 293us/sample - loss: 0.0533 - acc: 0.9814 - val_loss: 0.1730 - val_acc: 0.9324\n",
      "Epoch 84/100\n",
      "483/483 [==============================] - 0s 292us/sample - loss: 0.0441 - acc: 0.9834 - val_loss: 0.1767 - val_acc: 0.9324\n",
      "Epoch 85/100\n",
      "483/483 [==============================] - 0s 294us/sample - loss: 0.0389 - acc: 0.9834 - val_loss: 0.1462 - val_acc: 0.9420\n",
      "Epoch 86/100\n",
      "483/483 [==============================] - 0s 295us/sample - loss: 0.0571 - acc: 0.9772 - val_loss: 0.1958 - val_acc: 0.9372\n",
      "Epoch 87/100\n",
      "483/483 [==============================] - 0s 295us/sample - loss: 0.0383 - acc: 0.9834 - val_loss: 0.2226 - val_acc: 0.9275\n",
      "Epoch 88/100\n",
      "483/483 [==============================] - 0s 302us/sample - loss: 0.0476 - acc: 0.9793 - val_loss: 0.1514 - val_acc: 0.9469\n",
      "Epoch 89/100\n",
      "483/483 [==============================] - 0s 293us/sample - loss: 0.0561 - acc: 0.9772 - val_loss: 0.2216 - val_acc: 0.9179\n",
      "Epoch 90/100\n",
      "483/483 [==============================] - 0s 294us/sample - loss: 0.0450 - acc: 0.9834 - val_loss: 0.1756 - val_acc: 0.9420\n",
      "Epoch 91/100\n",
      "483/483 [==============================] - 0s 293us/sample - loss: 0.0364 - acc: 0.9896 - val_loss: 0.1635 - val_acc: 0.9420\n",
      "Epoch 92/100\n",
      "483/483 [==============================] - 0s 292us/sample - loss: 0.0372 - acc: 0.9814 - val_loss: 0.1778 - val_acc: 0.9420\n",
      "Epoch 93/100\n",
      "483/483 [==============================] - 0s 299us/sample - loss: 0.0374 - acc: 0.9855 - val_loss: 0.2364 - val_acc: 0.9275\n",
      "Epoch 94/100\n",
      "483/483 [==============================] - 0s 293us/sample - loss: 0.0278 - acc: 0.9855 - val_loss: 0.2285 - val_acc: 0.9324\n",
      "Epoch 95/100\n",
      "483/483 [==============================] - 0s 309us/sample - loss: 0.0234 - acc: 0.9896 - val_loss: 0.2018 - val_acc: 0.9469\n",
      "Epoch 96/100\n",
      "483/483 [==============================] - 0s 294us/sample - loss: 0.0225 - acc: 0.9917 - val_loss: 0.2078 - val_acc: 0.9372\n",
      "Epoch 97/100\n",
      "483/483 [==============================] - 0s 297us/sample - loss: 0.0327 - acc: 0.9855 - val_loss: 0.2096 - val_acc: 0.9420\n",
      "Epoch 98/100\n",
      "483/483 [==============================] - 0s 299us/sample - loss: 0.0345 - acc: 0.9855 - val_loss: 0.1947 - val_acc: 0.9372\n",
      "Epoch 99/100\n",
      "483/483 [==============================] - 0s 291us/sample - loss: 0.0374 - acc: 0.9814 - val_loss: 0.2158 - val_acc: 0.9227\n",
      "Epoch 100/100\n",
      "483/483 [==============================] - 0s 314us/sample - loss: 0.0308 - acc: 0.9896 - val_loss: 0.2247 - val_acc: 0.9275\n"
     ]
    }
   ],
   "source": [
    "history = model.fit(x=X_train, y=y_train, epochs=100, batch_size=32, validation_data=[X_test, y_test])"
   ]
  },
  {
   "cell_type": "code",
   "execution_count": 25,
   "id": "9e9d94ff",
   "metadata": {},
   "outputs": [
    {
     "name": "stderr",
     "output_type": "stream",
     "text": [
      "C:\\Users\\abhin\\anaconda3\\envs\\nlp_course\\lib\\site-packages\\matplotlib\\figure.py:445: UserWarning: Matplotlib is currently using module://matplotlib_inline.backend_inline, which is a non-GUI backend, so cannot show the figure.\n",
      "  % get_backend())\n"
     ]
    },
    {
     "data": {
      "image/png": "[encoded data removed]",
      "text/plain": [
       "<Figure size 1600x600 with 1 Axes>"
      ]
     },
     "metadata": {},
     "output_type": "display_data"
    }
   ],
   "source": [
    "## plotting accuracy over epochs\n",
    "\n",
    "plt, ax = plt.subplots(figsize=(16,6))\n",
    "\n",
    "ax.plot(history.history['acc'])\n",
    "ax.plot(history.history['val_acc'])\n",
    "ax.set_xlabel('Epochs')\n",
    "ax.set_ylabel('Accuracy')\n",
    "ax.legend(['Train', 'Test'])\n",
    "\n",
    "plt.show()"
   ]
  },
  {
   "cell_type": "raw",
   "id": "cb734220",
   "metadata": {},
   "source": [
    "Task 3: Model evaluation"
   ]
  },
  {
   "cell_type": "code",
   "execution_count": 32,
   "id": "4fba4b95",
   "metadata": {},
   "outputs": [],
   "source": [
    "from sklearn.metrics import classification_report, precision_score, recall_score, accuracy_score"
   ]
  },
  {
   "cell_type": "code",
   "execution_count": 33,
   "id": "054d7db0",
   "metadata": {},
   "outputs": [],
   "source": [
    "preds = model.predict_classes(X_test)"
   ]
  },
  {
   "cell_type": "code",
   "execution_count": 34,
   "id": "9bc8022c",
   "metadata": {},
   "outputs": [
    {
     "name": "stdout",
     "output_type": "stream",
     "text": [
      "              precision    recall  f1-score   support\n",
      "\n",
      "           0       0.97      0.94      0.95       159\n",
      "           1       0.81      0.90      0.85        48\n",
      "\n",
      "    accuracy                           0.93       207\n",
      "   macro avg       0.89      0.92      0.90       207\n",
      "weighted avg       0.93      0.93      0.93       207\n",
      "\n"
     ]
    }
   ],
   "source": [
    "print(classification_report(y_test, preds))"
   ]
  },
  {
   "cell_type": "code",
   "execution_count": 35,
   "id": "3ddcbf0e",
   "metadata": {},
   "outputs": [
    {
     "data": {
      "text/plain": [
       "0.8113207547169812"
      ]
     },
     "execution_count": 35,
     "metadata": {},
     "output_type": "execute_result"
    }
   ],
   "source": [
    "precision_score(y_test, preds)"
   ]
  },
  {
   "cell_type": "code",
   "execution_count": 36,
   "id": "7ea259f4",
   "metadata": {},
   "outputs": [
    {
     "data": {
      "text/plain": [
       "0.8958333333333334"
      ]
     },
     "execution_count": 36,
     "metadata": {},
     "output_type": "execute_result"
    }
   ],
   "source": [
    "recall_score(y_test, preds)"
   ]
  },
  {
   "cell_type": "raw",
   "id": "3e2085ef",
   "metadata": {},
   "source": [
    "Task 4: Save model"
   ]
  },
  {
   "cell_type": "code",
   "execution_count": 37,
   "id": "f99819a8",
   "metadata": {},
   "outputs": [],
   "source": [
    "tf.keras.models.save_model(model, 'FraudDetector_acc97_precision86_recall55_epochs100.h5')"
   ]
  },
  {
   "cell_type": "code",
   "execution_count": null,
   "id": "7cd86469",
   "metadata": {},
   "outputs": [],
   "source": []
  },
  {
   "cell_type": "code",
   "execution_count": null,
   "id": "39efe7d6",
   "metadata": {},
   "outputs": [],
   "source": []
  },
  {
   "cell_type": "code",
   "execution_count": null,
   "id": "1a55f69c",
   "metadata": {},
   "outputs": [],
   "source": []
  },
  {
   "cell_type": "code",
   "execution_count": null,
   "id": "583f0361",
   "metadata": {},
   "outputs": [],
   "source": []
  },
  {
   "cell_type": "code",
   "execution_count": null,
   "id": "9423b152",
   "metadata": {},
   "outputs": [],
   "source": []
  }
 ],
 "metadata": {
  "kernelspec": {
   "display_name": "Python 3 (ipykernel)",
   "language": "python",
   "name": "python3"
  },
  "language_info": {
   "codemirror_mode": {
    "name": "ipython",
    "version": 3
   },
   "file_extension": ".py",
   "mimetype": "text/x-python",
   "name": "python",
   "nbconvert_exporter": "python",
   "pygments_lexer": "ipython3",
   "version": "3.7.16"
  }
 },
 "nbformat": 4,
 "nbformat_minor": 5
}
